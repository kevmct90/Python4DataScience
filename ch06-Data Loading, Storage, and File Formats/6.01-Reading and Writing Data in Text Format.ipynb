{
 "cells": [
  {
   "cell_type": "markdown",
   "metadata": {},
   "source": [
    "# Data Loading, Storage, and File Formats"
   ]
  },
  {
   "cell_type": "markdown",
   "metadata": {},
   "source": [
    "The tools in this book are of little use if you can’t easily import and export data in\n",
    "Python. I’m going to be focused on input and output with pandas objects, though there\n",
    "are of course numerous tools in other libraries to aid in this process. NumPy, for example,\n",
    "features low-level but extremely fast binary data loading and storage, including\n",
    "support for memory-mapped array. See Chapter 12 for more on those.\n",
    "Input and output typically falls into a few main categories: reading text files and other\n",
    "more efficient on-disk formats, loading data from databases, and interacting with network\n",
    "sources like web APIs."
   ]
  },
  {
   "cell_type": "markdown",
   "metadata": {},
   "source": [
    "## Reading and Writing Data in Text Format\n",
    "\n",
    "\n",
    "Python has become a beloved language for text and file munging due to its simple syntax\n",
    "for interacting with files, intuitive data structures, and convenient features like tuple\n",
    "packing and unpacking.\n",
    "\n",
    "\n",
    "pandas features a number of functions for reading tabular data as a DataFrame object.\n",
    "Table 6-1 has a summary of all of them, though read_csv and read_table are likely the\n",
    "ones you’ll use the most.\n"
   ]
  },
  {
   "cell_type": "markdown",
   "metadata": {},
   "source": [
    "Table 6-1. Parsing functions in pandas\n",
    "\n",
    "Function Description\n",
    "\n",
    "read_csv Load delimited data from a file, URL, or file-like object. Use comma as default delimiter\n",
    "\n",
    "read_table Load delimited data from a file, URL, or file-like object. Use tab ('\\t') as default delimiter\n",
    "\n",
    "read_fwf Read data in fixed-width column format (that is, no delimiters)\n",
    "\n",
    "read_clipboard Version of read_table that reads data from the clipboard. Useful for converting tables from web pages"
   ]
  },
  {
   "cell_type": "markdown",
   "metadata": {},
   "source": [
    "I’ll give an overview of the mechanics of these functions, which are meant to convert\n",
    "text data into a DataFrame. The options for these functions fall into a few categories:\n",
    "\n",
    "* Indexing: can treat one or more columns as the returned DataFrame, and whether to get column names from the file, the user, or not at all.\n",
    "\n",
    "* Type inference and data conversion: this includes the user-defined value conversions and custom list of missing value markers.\n",
    "\n",
    "* Datetime parsing: includes combining capability, including combining date and time information spread over multiple columns into a single column in the result.\n",
    "\n",
    "* Iterating: support for iterating over chunks of very large files.\n",
    "\n",
    "* Unclean data issues: skipping rows or a footer, comments, or other minor things like numeric data with thousands separated by commas.\n",
    "\n",
    "Type inference is one of the more important features of these functions; that means you\n",
    "don’t have to specify which columns are numeric, integer, boolean, or string. Handling\n",
    "dates and other custom types requires a bit more effort, though. Let’s start with a small\n",
    "comma-separated (CSV) text file:\n"
   ]
  },
  {
   "cell_type": "code",
   "execution_count": 3,
   "metadata": {
    "collapsed": false
   },
   "outputs": [
    {
     "name": "stdout",
     "output_type": "stream",
     "text": [
      "a,b,c,d,message\r\n",
      "1,2,3,4,hello\r\n",
      "5,6,7,8,world\r\n",
      "9,10,11,12,foo"
     ]
    }
   ],
   "source": [
    "!cat ex1.csv"
   ]
  },
  {
   "cell_type": "markdown",
   "metadata": {},
   "source": [
    "Since this is comma-delimited, we can use read_csv to read it into a DataFrame:"
   ]
  },
  {
   "cell_type": "code",
   "execution_count": 97,
   "metadata": {
    "collapsed": false
   },
   "outputs": [],
   "source": [
    "from pandas import DataFrame, Series\n",
    "\n",
    "import pandas as pd\n",
    "\n",
    "import sys\n",
    "\n",
    "import numpy as np\n",
    "\n",
    "import json"
   ]
  },
  {
   "cell_type": "code",
   "execution_count": 7,
   "metadata": {
    "collapsed": true
   },
   "outputs": [],
   "source": [
    "df = pd.read_csv('ex1.csv')"
   ]
  },
  {
   "cell_type": "code",
   "execution_count": 8,
   "metadata": {
    "collapsed": false
   },
   "outputs": [
    {
     "data": {
      "text/html": [
       "<div>\n",
       "<table border=\"1\" class=\"dataframe\">\n",
       "  <thead>\n",
       "    <tr style=\"text-align: right;\">\n",
       "      <th></th>\n",
       "      <th>a</th>\n",
       "      <th>b</th>\n",
       "      <th>c</th>\n",
       "      <th>d</th>\n",
       "      <th>message</th>\n",
       "    </tr>\n",
       "  </thead>\n",
       "  <tbody>\n",
       "    <tr>\n",
       "      <th>0</th>\n",
       "      <td>1</td>\n",
       "      <td>2</td>\n",
       "      <td>3</td>\n",
       "      <td>4</td>\n",
       "      <td>hello</td>\n",
       "    </tr>\n",
       "    <tr>\n",
       "      <th>1</th>\n",
       "      <td>5</td>\n",
       "      <td>6</td>\n",
       "      <td>7</td>\n",
       "      <td>8</td>\n",
       "      <td>world</td>\n",
       "    </tr>\n",
       "    <tr>\n",
       "      <th>2</th>\n",
       "      <td>9</td>\n",
       "      <td>10</td>\n",
       "      <td>11</td>\n",
       "      <td>12</td>\n",
       "      <td>foo</td>\n",
       "    </tr>\n",
       "  </tbody>\n",
       "</table>\n",
       "</div>"
      ],
      "text/plain": [
       "   a   b   c   d message\n",
       "0  1   2   3   4   hello\n",
       "1  5   6   7   8   world\n",
       "2  9  10  11  12     foo"
      ]
     },
     "execution_count": 8,
     "metadata": {},
     "output_type": "execute_result"
    }
   ],
   "source": [
    "df"
   ]
  },
  {
   "cell_type": "markdown",
   "metadata": {},
   "source": [
    "We could also have used read_table and specifying the delimiter:"
   ]
  },
  {
   "cell_type": "code",
   "execution_count": 12,
   "metadata": {
    "collapsed": false
   },
   "outputs": [
    {
     "data": {
      "text/html": [
       "<div>\n",
       "<table border=\"1\" class=\"dataframe\">\n",
       "  <thead>\n",
       "    <tr style=\"text-align: right;\">\n",
       "      <th></th>\n",
       "      <th>a</th>\n",
       "      <th>b</th>\n",
       "      <th>c</th>\n",
       "      <th>d</th>\n",
       "      <th>message</th>\n",
       "    </tr>\n",
       "  </thead>\n",
       "  <tbody>\n",
       "    <tr>\n",
       "      <th>0</th>\n",
       "      <td>1</td>\n",
       "      <td>2</td>\n",
       "      <td>3</td>\n",
       "      <td>4</td>\n",
       "      <td>hello</td>\n",
       "    </tr>\n",
       "    <tr>\n",
       "      <th>1</th>\n",
       "      <td>5</td>\n",
       "      <td>6</td>\n",
       "      <td>7</td>\n",
       "      <td>8</td>\n",
       "      <td>world</td>\n",
       "    </tr>\n",
       "    <tr>\n",
       "      <th>2</th>\n",
       "      <td>9</td>\n",
       "      <td>10</td>\n",
       "      <td>11</td>\n",
       "      <td>12</td>\n",
       "      <td>foo</td>\n",
       "    </tr>\n",
       "  </tbody>\n",
       "</table>\n",
       "</div>"
      ],
      "text/plain": [
       "   a   b   c   d message\n",
       "0  1   2   3   4   hello\n",
       "1  5   6   7   8   world\n",
       "2  9  10  11  12     foo"
      ]
     },
     "execution_count": 12,
     "metadata": {},
     "output_type": "execute_result"
    }
   ],
   "source": [
    "pd.read_table('ex1.csv',  sep=',')"
   ]
  },
  {
   "cell_type": "markdown",
   "metadata": {},
   "source": [
    "A file will not always have a header row. Consider this file:"
   ]
  },
  {
   "cell_type": "code",
   "execution_count": 13,
   "metadata": {
    "collapsed": false
   },
   "outputs": [
    {
     "name": "stdout",
     "output_type": "stream",
     "text": [
      "1,2,3,4,hello\r\n",
      "5,6,7,8,world\r\n",
      "9,10,11,12,foo"
     ]
    }
   ],
   "source": [
    "!cat ex2.csv"
   ]
  },
  {
   "cell_type": "markdown",
   "metadata": {},
   "source": [
    "To read this in, you have a couple of options. You can allow pandas to assign default\n",
    "column names, or you can specify names yourself:"
   ]
  },
  {
   "cell_type": "code",
   "execution_count": 14,
   "metadata": {
    "collapsed": false
   },
   "outputs": [
    {
     "data": {
      "text/html": [
       "<div>\n",
       "<table border=\"1\" class=\"dataframe\">\n",
       "  <thead>\n",
       "    <tr style=\"text-align: right;\">\n",
       "      <th></th>\n",
       "      <th>0</th>\n",
       "      <th>1</th>\n",
       "      <th>2</th>\n",
       "      <th>3</th>\n",
       "      <th>4</th>\n",
       "    </tr>\n",
       "  </thead>\n",
       "  <tbody>\n",
       "    <tr>\n",
       "      <th>0</th>\n",
       "      <td>1</td>\n",
       "      <td>2</td>\n",
       "      <td>3</td>\n",
       "      <td>4</td>\n",
       "      <td>hello</td>\n",
       "    </tr>\n",
       "    <tr>\n",
       "      <th>1</th>\n",
       "      <td>5</td>\n",
       "      <td>6</td>\n",
       "      <td>7</td>\n",
       "      <td>8</td>\n",
       "      <td>world</td>\n",
       "    </tr>\n",
       "    <tr>\n",
       "      <th>2</th>\n",
       "      <td>9</td>\n",
       "      <td>10</td>\n",
       "      <td>11</td>\n",
       "      <td>12</td>\n",
       "      <td>foo</td>\n",
       "    </tr>\n",
       "  </tbody>\n",
       "</table>\n",
       "</div>"
      ],
      "text/plain": [
       "   0   1   2   3      4\n",
       "0  1   2   3   4  hello\n",
       "1  5   6   7   8  world\n",
       "2  9  10  11  12    foo"
      ]
     },
     "execution_count": 14,
     "metadata": {},
     "output_type": "execute_result"
    }
   ],
   "source": [
    "pd.read_csv('ex2.csv', header=None)"
   ]
  },
  {
   "cell_type": "code",
   "execution_count": 15,
   "metadata": {
    "collapsed": false
   },
   "outputs": [
    {
     "data": {
      "text/html": [
       "<div>\n",
       "<table border=\"1\" class=\"dataframe\">\n",
       "  <thead>\n",
       "    <tr style=\"text-align: right;\">\n",
       "      <th></th>\n",
       "      <th>a</th>\n",
       "      <th>b</th>\n",
       "      <th>c</th>\n",
       "      <th>d</th>\n",
       "      <th>message</th>\n",
       "    </tr>\n",
       "  </thead>\n",
       "  <tbody>\n",
       "    <tr>\n",
       "      <th>0</th>\n",
       "      <td>1</td>\n",
       "      <td>2</td>\n",
       "      <td>3</td>\n",
       "      <td>4</td>\n",
       "      <td>hello</td>\n",
       "    </tr>\n",
       "    <tr>\n",
       "      <th>1</th>\n",
       "      <td>5</td>\n",
       "      <td>6</td>\n",
       "      <td>7</td>\n",
       "      <td>8</td>\n",
       "      <td>world</td>\n",
       "    </tr>\n",
       "    <tr>\n",
       "      <th>2</th>\n",
       "      <td>9</td>\n",
       "      <td>10</td>\n",
       "      <td>11</td>\n",
       "      <td>12</td>\n",
       "      <td>foo</td>\n",
       "    </tr>\n",
       "  </tbody>\n",
       "</table>\n",
       "</div>"
      ],
      "text/plain": [
       "   a   b   c   d message\n",
       "0  1   2   3   4   hello\n",
       "1  5   6   7   8   world\n",
       "2  9  10  11  12     foo"
      ]
     },
     "execution_count": 15,
     "metadata": {},
     "output_type": "execute_result"
    }
   ],
   "source": [
    "pd.read_csv('ex2.csv', names=['a', 'b', 'c', 'd', 'message'])"
   ]
  },
  {
   "cell_type": "markdown",
   "metadata": {},
   "source": [
    "Suppose you wanted the message column to be the index of the returned DataFrame.\n",
    "You can either indicate you want the column at index 4 or named 'message' using the\n",
    "index_col argument:"
   ]
  },
  {
   "cell_type": "code",
   "execution_count": 16,
   "metadata": {
    "collapsed": true
   },
   "outputs": [],
   "source": [
    "names = ['a', 'b', 'c', 'd', 'message']"
   ]
  },
  {
   "cell_type": "code",
   "execution_count": 17,
   "metadata": {
    "collapsed": false
   },
   "outputs": [
    {
     "data": {
      "text/html": [
       "<div>\n",
       "<table border=\"1\" class=\"dataframe\">\n",
       "  <thead>\n",
       "    <tr style=\"text-align: right;\">\n",
       "      <th></th>\n",
       "      <th>a</th>\n",
       "      <th>b</th>\n",
       "      <th>c</th>\n",
       "      <th>d</th>\n",
       "    </tr>\n",
       "    <tr>\n",
       "      <th>message</th>\n",
       "      <th></th>\n",
       "      <th></th>\n",
       "      <th></th>\n",
       "      <th></th>\n",
       "    </tr>\n",
       "  </thead>\n",
       "  <tbody>\n",
       "    <tr>\n",
       "      <th>hello</th>\n",
       "      <td>1</td>\n",
       "      <td>2</td>\n",
       "      <td>3</td>\n",
       "      <td>4</td>\n",
       "    </tr>\n",
       "    <tr>\n",
       "      <th>world</th>\n",
       "      <td>5</td>\n",
       "      <td>6</td>\n",
       "      <td>7</td>\n",
       "      <td>8</td>\n",
       "    </tr>\n",
       "    <tr>\n",
       "      <th>foo</th>\n",
       "      <td>9</td>\n",
       "      <td>10</td>\n",
       "      <td>11</td>\n",
       "      <td>12</td>\n",
       "    </tr>\n",
       "  </tbody>\n",
       "</table>\n",
       "</div>"
      ],
      "text/plain": [
       "         a   b   c   d\n",
       "message               \n",
       "hello    1   2   3   4\n",
       "world    5   6   7   8\n",
       "foo      9  10  11  12"
      ]
     },
     "execution_count": 17,
     "metadata": {},
     "output_type": "execute_result"
    }
   ],
   "source": [
    "pd.read_csv('ex2.csv', names=names, index_col='message')"
   ]
  },
  {
   "cell_type": "markdown",
   "metadata": {},
   "source": [
    "In the event that you want to form a hierarchical index from multiple columns, just\n",
    "pass a list of column numbers or names:"
   ]
  },
  {
   "cell_type": "code",
   "execution_count": 18,
   "metadata": {
    "collapsed": false
   },
   "outputs": [
    {
     "name": "stdout",
     "output_type": "stream",
     "text": [
      "key1,key2,value1,value2\r\n",
      "one,a,1,2\r\n",
      "one,b,3,4\r\n",
      "one,c,5,6\r\n",
      "one,d,7,8\r\n",
      "two,a,9,10\r\n",
      "two,b,11,12\r\n",
      "two,c,13,14\r\n",
      "two,d,15,16\r\n"
     ]
    }
   ],
   "source": [
    "!cat csv_mindex.csv"
   ]
  },
  {
   "cell_type": "code",
   "execution_count": 19,
   "metadata": {
    "collapsed": true
   },
   "outputs": [],
   "source": [
    "parsed = pd.read_csv('csv_mindex.csv', index_col=['key1', 'key2'])"
   ]
  },
  {
   "cell_type": "code",
   "execution_count": 20,
   "metadata": {
    "collapsed": false
   },
   "outputs": [
    {
     "data": {
      "text/html": [
       "<div>\n",
       "<table border=\"1\" class=\"dataframe\">\n",
       "  <thead>\n",
       "    <tr style=\"text-align: right;\">\n",
       "      <th></th>\n",
       "      <th></th>\n",
       "      <th>value1</th>\n",
       "      <th>value2</th>\n",
       "    </tr>\n",
       "    <tr>\n",
       "      <th>key1</th>\n",
       "      <th>key2</th>\n",
       "      <th></th>\n",
       "      <th></th>\n",
       "    </tr>\n",
       "  </thead>\n",
       "  <tbody>\n",
       "    <tr>\n",
       "      <th rowspan=\"4\" valign=\"top\">one</th>\n",
       "      <th>a</th>\n",
       "      <td>1</td>\n",
       "      <td>2</td>\n",
       "    </tr>\n",
       "    <tr>\n",
       "      <th>b</th>\n",
       "      <td>3</td>\n",
       "      <td>4</td>\n",
       "    </tr>\n",
       "    <tr>\n",
       "      <th>c</th>\n",
       "      <td>5</td>\n",
       "      <td>6</td>\n",
       "    </tr>\n",
       "    <tr>\n",
       "      <th>d</th>\n",
       "      <td>7</td>\n",
       "      <td>8</td>\n",
       "    </tr>\n",
       "    <tr>\n",
       "      <th rowspan=\"4\" valign=\"top\">two</th>\n",
       "      <th>a</th>\n",
       "      <td>9</td>\n",
       "      <td>10</td>\n",
       "    </tr>\n",
       "    <tr>\n",
       "      <th>b</th>\n",
       "      <td>11</td>\n",
       "      <td>12</td>\n",
       "    </tr>\n",
       "    <tr>\n",
       "      <th>c</th>\n",
       "      <td>13</td>\n",
       "      <td>14</td>\n",
       "    </tr>\n",
       "    <tr>\n",
       "      <th>d</th>\n",
       "      <td>15</td>\n",
       "      <td>16</td>\n",
       "    </tr>\n",
       "  </tbody>\n",
       "</table>\n",
       "</div>"
      ],
      "text/plain": [
       "           value1  value2\n",
       "key1 key2                \n",
       "one  a          1       2\n",
       "     b          3       4\n",
       "     c          5       6\n",
       "     d          7       8\n",
       "two  a          9      10\n",
       "     b         11      12\n",
       "     c         13      14\n",
       "     d         15      16"
      ]
     },
     "execution_count": 20,
     "metadata": {},
     "output_type": "execute_result"
    }
   ],
   "source": [
    "parsed"
   ]
  },
  {
   "cell_type": "markdown",
   "metadata": {},
   "source": [
    "In some cases, a table might not have a fixed delimiter, using whitespace or some other\n",
    "pattern to separate fields. In these cases, you can pass a regular expression as a delimiter\n",
    "for read_table. Consider a text file that looks like this:"
   ]
  },
  {
   "cell_type": "code",
   "execution_count": 21,
   "metadata": {
    "collapsed": false
   },
   "outputs": [
    {
     "data": {
      "text/plain": [
       "['            A         B         C\\n',\n",
       " 'aaa -0.264438 -1.026059 -0.619500\\n',\n",
       " 'bbb  0.927272  0.302904 -0.032399\\n',\n",
       " 'ccc -0.264273 -0.386314 -0.217601\\n',\n",
       " 'ddd -0.871858 -0.348382  1.100491']"
      ]
     },
     "execution_count": 21,
     "metadata": {},
     "output_type": "execute_result"
    }
   ],
   "source": [
    "list(open('ex3.csv'))"
   ]
  },
  {
   "cell_type": "markdown",
   "metadata": {},
   "source": [
    "While you could do some munging by hand, in this case fields are separated by a variable\n",
    "amount of whitespace. This can be expressed by the regular expression \\s+, so we have\n",
    "then:"
   ]
  },
  {
   "cell_type": "code",
   "execution_count": 22,
   "metadata": {
    "collapsed": true
   },
   "outputs": [],
   "source": [
    "result = pd.read_table('ex3.txt', sep='\\s+')"
   ]
  },
  {
   "cell_type": "code",
   "execution_count": 23,
   "metadata": {
    "collapsed": false
   },
   "outputs": [
    {
     "data": {
      "text/html": [
       "<div>\n",
       "<table border=\"1\" class=\"dataframe\">\n",
       "  <thead>\n",
       "    <tr style=\"text-align: right;\">\n",
       "      <th></th>\n",
       "      <th>A</th>\n",
       "      <th>B</th>\n",
       "      <th>C</th>\n",
       "    </tr>\n",
       "  </thead>\n",
       "  <tbody>\n",
       "    <tr>\n",
       "      <th>aaa</th>\n",
       "      <td>-0.264438</td>\n",
       "      <td>-1.026059</td>\n",
       "      <td>-0.619500</td>\n",
       "    </tr>\n",
       "    <tr>\n",
       "      <th>bbb</th>\n",
       "      <td>0.927272</td>\n",
       "      <td>0.302904</td>\n",
       "      <td>-0.032399</td>\n",
       "    </tr>\n",
       "    <tr>\n",
       "      <th>ccc</th>\n",
       "      <td>-0.264273</td>\n",
       "      <td>-0.386314</td>\n",
       "      <td>-0.217601</td>\n",
       "    </tr>\n",
       "    <tr>\n",
       "      <th>ddd</th>\n",
       "      <td>-0.871858</td>\n",
       "      <td>-0.348382</td>\n",
       "      <td>1.100491</td>\n",
       "    </tr>\n",
       "  </tbody>\n",
       "</table>\n",
       "</div>"
      ],
      "text/plain": [
       "            A         B         C\n",
       "aaa -0.264438 -1.026059 -0.619500\n",
       "bbb  0.927272  0.302904 -0.032399\n",
       "ccc -0.264273 -0.386314 -0.217601\n",
       "ddd -0.871858 -0.348382  1.100491"
      ]
     },
     "execution_count": 23,
     "metadata": {},
     "output_type": "execute_result"
    }
   ],
   "source": [
    "result"
   ]
  },
  {
   "cell_type": "markdown",
   "metadata": {},
   "source": [
    "Because there was one fewer column name than the number of data rows, read_table\n",
    "infers that the first column should be the DataFrame’s index in this special case.\n",
    "\n",
    "The parser functions have many additional arguments to help you handle the wide\n",
    "variety of exception file formats that occur (see Table 6-2). For example, you can skip\n",
    "the first, third, and fourth rows of a file with skiprows:"
   ]
  },
  {
   "cell_type": "code",
   "execution_count": 24,
   "metadata": {
    "collapsed": false
   },
   "outputs": [
    {
     "name": "stdout",
     "output_type": "stream",
     "text": [
      "# hey!\r\n",
      "a,b,c,d,message\r\n",
      "# just wanted to make things more difficult for you\r\n",
      "# who reads CSV files with computers, anyway?\r\n",
      "1,2,3,4,hello\r\n",
      "5,6,7,8,world\r\n",
      "9,10,11,12,foo"
     ]
    }
   ],
   "source": [
    "!cat ex4.csv"
   ]
  },
  {
   "cell_type": "code",
   "execution_count": 25,
   "metadata": {
    "collapsed": false
   },
   "outputs": [
    {
     "data": {
      "text/html": [
       "<div>\n",
       "<table border=\"1\" class=\"dataframe\">\n",
       "  <thead>\n",
       "    <tr style=\"text-align: right;\">\n",
       "      <th></th>\n",
       "      <th>a</th>\n",
       "      <th>b</th>\n",
       "      <th>c</th>\n",
       "      <th>d</th>\n",
       "      <th>message</th>\n",
       "    </tr>\n",
       "  </thead>\n",
       "  <tbody>\n",
       "    <tr>\n",
       "      <th>0</th>\n",
       "      <td>1</td>\n",
       "      <td>2</td>\n",
       "      <td>3</td>\n",
       "      <td>4</td>\n",
       "      <td>hello</td>\n",
       "    </tr>\n",
       "    <tr>\n",
       "      <th>1</th>\n",
       "      <td>5</td>\n",
       "      <td>6</td>\n",
       "      <td>7</td>\n",
       "      <td>8</td>\n",
       "      <td>world</td>\n",
       "    </tr>\n",
       "    <tr>\n",
       "      <th>2</th>\n",
       "      <td>9</td>\n",
       "      <td>10</td>\n",
       "      <td>11</td>\n",
       "      <td>12</td>\n",
       "      <td>foo</td>\n",
       "    </tr>\n",
       "  </tbody>\n",
       "</table>\n",
       "</div>"
      ],
      "text/plain": [
       "   a   b   c   d message\n",
       "0  1   2   3   4   hello\n",
       "1  5   6   7   8   world\n",
       "2  9  10  11  12     foo"
      ]
     },
     "execution_count": 25,
     "metadata": {},
     "output_type": "execute_result"
    }
   ],
   "source": [
    "pd.read_csv('ex4.csv', skiprows=[0, 2, 3])"
   ]
  },
  {
   "cell_type": "markdown",
   "metadata": {},
   "source": [
    "Handling missing values is an important and frequently nuanced part of the file parsing\n",
    "process. Missing data is usually either not present (empty string) or marked by some\n",
    "sentinel value. By default, pandas uses a set of commonly occurring sentinels, such as\n",
    "NA, -1.#IND, and NULL:"
   ]
  },
  {
   "cell_type": "code",
   "execution_count": 26,
   "metadata": {
    "collapsed": false
   },
   "outputs": [
    {
     "name": "stdout",
     "output_type": "stream",
     "text": [
      "something,a,b,c,d,message\r\n",
      "one,1,2,3,4,NA\r\n",
      "two,5,6,,8,world\r\n",
      "three,9,10,11,12,foo"
     ]
    }
   ],
   "source": [
    "!cat ex5.csv"
   ]
  },
  {
   "cell_type": "code",
   "execution_count": 27,
   "metadata": {
    "collapsed": true
   },
   "outputs": [],
   "source": [
    "result = pd.read_csv('ex5.csv')"
   ]
  },
  {
   "cell_type": "code",
   "execution_count": 28,
   "metadata": {
    "collapsed": false
   },
   "outputs": [
    {
     "data": {
      "text/html": [
       "<div>\n",
       "<table border=\"1\" class=\"dataframe\">\n",
       "  <thead>\n",
       "    <tr style=\"text-align: right;\">\n",
       "      <th></th>\n",
       "      <th>something</th>\n",
       "      <th>a</th>\n",
       "      <th>b</th>\n",
       "      <th>c</th>\n",
       "      <th>d</th>\n",
       "      <th>message</th>\n",
       "    </tr>\n",
       "  </thead>\n",
       "  <tbody>\n",
       "    <tr>\n",
       "      <th>0</th>\n",
       "      <td>one</td>\n",
       "      <td>1</td>\n",
       "      <td>2</td>\n",
       "      <td>3.0</td>\n",
       "      <td>4</td>\n",
       "      <td>NaN</td>\n",
       "    </tr>\n",
       "    <tr>\n",
       "      <th>1</th>\n",
       "      <td>two</td>\n",
       "      <td>5</td>\n",
       "      <td>6</td>\n",
       "      <td>NaN</td>\n",
       "      <td>8</td>\n",
       "      <td>world</td>\n",
       "    </tr>\n",
       "    <tr>\n",
       "      <th>2</th>\n",
       "      <td>three</td>\n",
       "      <td>9</td>\n",
       "      <td>10</td>\n",
       "      <td>11.0</td>\n",
       "      <td>12</td>\n",
       "      <td>foo</td>\n",
       "    </tr>\n",
       "  </tbody>\n",
       "</table>\n",
       "</div>"
      ],
      "text/plain": [
       "  something  a   b     c   d message\n",
       "0       one  1   2   3.0   4     NaN\n",
       "1       two  5   6   NaN   8   world\n",
       "2     three  9  10  11.0  12     foo"
      ]
     },
     "execution_count": 28,
     "metadata": {},
     "output_type": "execute_result"
    }
   ],
   "source": [
    "result"
   ]
  },
  {
   "cell_type": "code",
   "execution_count": 29,
   "metadata": {
    "collapsed": false
   },
   "outputs": [
    {
     "data": {
      "text/html": [
       "<div>\n",
       "<table border=\"1\" class=\"dataframe\">\n",
       "  <thead>\n",
       "    <tr style=\"text-align: right;\">\n",
       "      <th></th>\n",
       "      <th>something</th>\n",
       "      <th>a</th>\n",
       "      <th>b</th>\n",
       "      <th>c</th>\n",
       "      <th>d</th>\n",
       "      <th>message</th>\n",
       "    </tr>\n",
       "  </thead>\n",
       "  <tbody>\n",
       "    <tr>\n",
       "      <th>0</th>\n",
       "      <td>False</td>\n",
       "      <td>False</td>\n",
       "      <td>False</td>\n",
       "      <td>False</td>\n",
       "      <td>False</td>\n",
       "      <td>True</td>\n",
       "    </tr>\n",
       "    <tr>\n",
       "      <th>1</th>\n",
       "      <td>False</td>\n",
       "      <td>False</td>\n",
       "      <td>False</td>\n",
       "      <td>True</td>\n",
       "      <td>False</td>\n",
       "      <td>False</td>\n",
       "    </tr>\n",
       "    <tr>\n",
       "      <th>2</th>\n",
       "      <td>False</td>\n",
       "      <td>False</td>\n",
       "      <td>False</td>\n",
       "      <td>False</td>\n",
       "      <td>False</td>\n",
       "      <td>False</td>\n",
       "    </tr>\n",
       "  </tbody>\n",
       "</table>\n",
       "</div>"
      ],
      "text/plain": [
       "  something      a      b      c      d message\n",
       "0     False  False  False  False  False    True\n",
       "1     False  False  False   True  False   False\n",
       "2     False  False  False  False  False   False"
      ]
     },
     "execution_count": 29,
     "metadata": {},
     "output_type": "execute_result"
    }
   ],
   "source": [
    "pd.isnull(result)"
   ]
  },
  {
   "cell_type": "markdown",
   "metadata": {},
   "source": [
    "The na_values option can take either a list or set of strings to consider missing values:"
   ]
  },
  {
   "cell_type": "code",
   "execution_count": 30,
   "metadata": {
    "collapsed": true
   },
   "outputs": [],
   "source": [
    "result = pd.read_csv('ex5.csv', na_values=['NULL'])"
   ]
  },
  {
   "cell_type": "code",
   "execution_count": 31,
   "metadata": {
    "collapsed": false
   },
   "outputs": [
    {
     "data": {
      "text/html": [
       "<div>\n",
       "<table border=\"1\" class=\"dataframe\">\n",
       "  <thead>\n",
       "    <tr style=\"text-align: right;\">\n",
       "      <th></th>\n",
       "      <th>something</th>\n",
       "      <th>a</th>\n",
       "      <th>b</th>\n",
       "      <th>c</th>\n",
       "      <th>d</th>\n",
       "      <th>message</th>\n",
       "    </tr>\n",
       "  </thead>\n",
       "  <tbody>\n",
       "    <tr>\n",
       "      <th>0</th>\n",
       "      <td>one</td>\n",
       "      <td>1</td>\n",
       "      <td>2</td>\n",
       "      <td>3.0</td>\n",
       "      <td>4</td>\n",
       "      <td>NaN</td>\n",
       "    </tr>\n",
       "    <tr>\n",
       "      <th>1</th>\n",
       "      <td>two</td>\n",
       "      <td>5</td>\n",
       "      <td>6</td>\n",
       "      <td>NaN</td>\n",
       "      <td>8</td>\n",
       "      <td>world</td>\n",
       "    </tr>\n",
       "    <tr>\n",
       "      <th>2</th>\n",
       "      <td>three</td>\n",
       "      <td>9</td>\n",
       "      <td>10</td>\n",
       "      <td>11.0</td>\n",
       "      <td>12</td>\n",
       "      <td>foo</td>\n",
       "    </tr>\n",
       "  </tbody>\n",
       "</table>\n",
       "</div>"
      ],
      "text/plain": [
       "  something  a   b     c   d message\n",
       "0       one  1   2   3.0   4     NaN\n",
       "1       two  5   6   NaN   8   world\n",
       "2     three  9  10  11.0  12     foo"
      ]
     },
     "execution_count": 31,
     "metadata": {},
     "output_type": "execute_result"
    }
   ],
   "source": [
    "result"
   ]
  },
  {
   "cell_type": "markdown",
   "metadata": {},
   "source": [
    "Different NA sentinels can be specified for each column in a dict:"
   ]
  },
  {
   "cell_type": "code",
   "execution_count": 33,
   "metadata": {
    "collapsed": false
   },
   "outputs": [],
   "source": [
    "sentinels = {'message': ['foo', 'NA'], 'something':['two']}"
   ]
  },
  {
   "cell_type": "code",
   "execution_count": 34,
   "metadata": {
    "collapsed": false
   },
   "outputs": [
    {
     "data": {
      "text/html": [
       "<div>\n",
       "<table border=\"1\" class=\"dataframe\">\n",
       "  <thead>\n",
       "    <tr style=\"text-align: right;\">\n",
       "      <th></th>\n",
       "      <th>something</th>\n",
       "      <th>a</th>\n",
       "      <th>b</th>\n",
       "      <th>c</th>\n",
       "      <th>d</th>\n",
       "      <th>message</th>\n",
       "    </tr>\n",
       "  </thead>\n",
       "  <tbody>\n",
       "    <tr>\n",
       "      <th>0</th>\n",
       "      <td>one</td>\n",
       "      <td>1</td>\n",
       "      <td>2</td>\n",
       "      <td>3.0</td>\n",
       "      <td>4</td>\n",
       "      <td>NaN</td>\n",
       "    </tr>\n",
       "    <tr>\n",
       "      <th>1</th>\n",
       "      <td>NaN</td>\n",
       "      <td>5</td>\n",
       "      <td>6</td>\n",
       "      <td>NaN</td>\n",
       "      <td>8</td>\n",
       "      <td>world</td>\n",
       "    </tr>\n",
       "    <tr>\n",
       "      <th>2</th>\n",
       "      <td>three</td>\n",
       "      <td>9</td>\n",
       "      <td>10</td>\n",
       "      <td>11.0</td>\n",
       "      <td>12</td>\n",
       "      <td>NaN</td>\n",
       "    </tr>\n",
       "  </tbody>\n",
       "</table>\n",
       "</div>"
      ],
      "text/plain": [
       "  something  a   b     c   d message\n",
       "0       one  1   2   3.0   4     NaN\n",
       "1       NaN  5   6   NaN   8   world\n",
       "2     three  9  10  11.0  12     NaN"
      ]
     },
     "execution_count": 34,
     "metadata": {},
     "output_type": "execute_result"
    }
   ],
   "source": [
    "pd.read_csv('ex5.csv', na_values=sentinels)"
   ]
  },
  {
   "cell_type": "code",
   "execution_count": null,
   "metadata": {
    "collapsed": true
   },
   "outputs": [],
   "source": []
  },
  {
   "cell_type": "markdown",
   "metadata": {},
   "source": [
    "Table 6-2. read_csv /read_table function arguments\n",
    "\n",
    "Argument Description\n",
    "\n",
    "path String indicating filesystem location, URL, or file-like object\n",
    "\n",
    "sep or delimiter Character sequence or regular expression to use to split fields in each row\n",
    "\n",
    "header Row number to use as column names. Defaults to 0 (first row), but should be None if there is no header row\n",
    "\n",
    "index_col Column numbers or names to use as the row index in the result. Can be a single name/number or a list\n",
    "of them for a hierarchical index\n",
    "\n",
    "names List of column names for result, combine with header=None\n",
    "\n",
    "skiprows Number of rows at beginning of file to ignore or list of row numbers (starting from 0) to skip\n",
    "\n",
    "na_values Sequence of values to replace with NA\n",
    "\n",
    "comment Character or characters to split comments off the end of lines\n",
    "\n",
    "parse_dates Attempt to parse data to datetime; False by default. If True, will attempt to parse all columns. Otherwise\n",
    "can specify a list of column numbers or name to parse. If element of list is tuple or list, will combine\n",
    "multiple columns together and parse to date (for example if date/time split across two columns)\n",
    "\n",
    "keep_date_col If joining columns to parse date, drop the joined columns. Default True\n",
    "\n",
    "converters Dict containing column number of name mapping to functions. For example {'foo': f} would apply\n",
    "the function f to all values in the 'foo' column\n",
    "\n",
    "dayfirst When parsing potentially ambiguous dates, treat as international format (e.g. 7/6/2012 -> June 7,\n",
    "2012). Default False\n",
    "\n",
    "date_parser Function to use to parse dates\n",
    "\n",
    "nrows Number of rows to read from beginning of file\n",
    "\n",
    "iterator Return a TextParser object for reading file piecemeal\n",
    "\n",
    "chunksize For iteration, size of file chunks\n",
    "\n",
    "skip_footer Number of lines to ignore at end of file\n",
    "\n",
    "verbose Print various parser output information, like the number of \n",
    "missing values placed in non-numeric\n",
    "columns\n",
    "\n",
    "encoding Text encoding for unicode. For example 'utf-8' for UTF-8 encoded text\n",
    "\n",
    "squeeze If the parsed data only contains one column return a Series\n",
    "\n",
    "thousands Separator for thousands, e.g. ',' or '.'"
   ]
  },
  {
   "cell_type": "code",
   "execution_count": null,
   "metadata": {
    "collapsed": true
   },
   "outputs": [],
   "source": []
  },
  {
   "cell_type": "markdown",
   "metadata": {},
   "source": [
    "## Reading Text Files in Pieces\n",
    "\n",
    "\n",
    "When processing very large files or figuring out the right set of arguments to correctly\n",
    "process a large file, you may only want to read in a small piece of a file or iterate through\n",
    "smaller chunks of the file."
   ]
  },
  {
   "cell_type": "code",
   "execution_count": 35,
   "metadata": {
    "collapsed": true
   },
   "outputs": [],
   "source": [
    "result = pd.read_csv('ex6.csv')"
   ]
  },
  {
   "cell_type": "code",
   "execution_count": 36,
   "metadata": {
    "collapsed": false
   },
   "outputs": [
    {
     "data": {
      "text/html": [
       "<div>\n",
       "<table border=\"1\" class=\"dataframe\">\n",
       "  <thead>\n",
       "    <tr style=\"text-align: right;\">\n",
       "      <th></th>\n",
       "      <th>one</th>\n",
       "      <th>two</th>\n",
       "      <th>three</th>\n",
       "      <th>four</th>\n",
       "      <th>key</th>\n",
       "    </tr>\n",
       "  </thead>\n",
       "  <tbody>\n",
       "    <tr>\n",
       "      <th>0</th>\n",
       "      <td>0.467976</td>\n",
       "      <td>-0.038649</td>\n",
       "      <td>-0.295344</td>\n",
       "      <td>-1.824726</td>\n",
       "      <td>L</td>\n",
       "    </tr>\n",
       "    <tr>\n",
       "      <th>1</th>\n",
       "      <td>-0.358893</td>\n",
       "      <td>1.404453</td>\n",
       "      <td>0.704965</td>\n",
       "      <td>-0.200638</td>\n",
       "      <td>B</td>\n",
       "    </tr>\n",
       "    <tr>\n",
       "      <th>2</th>\n",
       "      <td>-0.501840</td>\n",
       "      <td>0.659254</td>\n",
       "      <td>-0.421691</td>\n",
       "      <td>-0.057688</td>\n",
       "      <td>G</td>\n",
       "    </tr>\n",
       "    <tr>\n",
       "      <th>3</th>\n",
       "      <td>0.204886</td>\n",
       "      <td>1.074134</td>\n",
       "      <td>1.388361</td>\n",
       "      <td>-0.982404</td>\n",
       "      <td>R</td>\n",
       "    </tr>\n",
       "    <tr>\n",
       "      <th>4</th>\n",
       "      <td>0.354628</td>\n",
       "      <td>-0.133116</td>\n",
       "      <td>0.283763</td>\n",
       "      <td>-0.837063</td>\n",
       "      <td>Q</td>\n",
       "    </tr>\n",
       "    <tr>\n",
       "      <th>5</th>\n",
       "      <td>1.817480</td>\n",
       "      <td>0.742273</td>\n",
       "      <td>0.419395</td>\n",
       "      <td>-2.251035</td>\n",
       "      <td>Q</td>\n",
       "    </tr>\n",
       "    <tr>\n",
       "      <th>6</th>\n",
       "      <td>-0.776764</td>\n",
       "      <td>0.935518</td>\n",
       "      <td>-0.332872</td>\n",
       "      <td>-1.875641</td>\n",
       "      <td>U</td>\n",
       "    </tr>\n",
       "    <tr>\n",
       "      <th>7</th>\n",
       "      <td>-0.913135</td>\n",
       "      <td>1.530624</td>\n",
       "      <td>-0.572657</td>\n",
       "      <td>0.477252</td>\n",
       "      <td>K</td>\n",
       "    </tr>\n",
       "    <tr>\n",
       "      <th>8</th>\n",
       "      <td>0.358480</td>\n",
       "      <td>-0.497572</td>\n",
       "      <td>-0.367016</td>\n",
       "      <td>0.507702</td>\n",
       "      <td>S</td>\n",
       "    </tr>\n",
       "    <tr>\n",
       "      <th>9</th>\n",
       "      <td>-1.740877</td>\n",
       "      <td>-1.160417</td>\n",
       "      <td>-1.637830</td>\n",
       "      <td>2.172201</td>\n",
       "      <td>G</td>\n",
       "    </tr>\n",
       "    <tr>\n",
       "      <th>10</th>\n",
       "      <td>0.240564</td>\n",
       "      <td>-0.328249</td>\n",
       "      <td>1.252155</td>\n",
       "      <td>1.072796</td>\n",
       "      <td>8</td>\n",
       "    </tr>\n",
       "    <tr>\n",
       "      <th>11</th>\n",
       "      <td>0.764018</td>\n",
       "      <td>1.165476</td>\n",
       "      <td>-0.639544</td>\n",
       "      <td>1.495258</td>\n",
       "      <td>R</td>\n",
       "    </tr>\n",
       "    <tr>\n",
       "      <th>12</th>\n",
       "      <td>0.571035</td>\n",
       "      <td>-0.310537</td>\n",
       "      <td>0.582437</td>\n",
       "      <td>-0.298765</td>\n",
       "      <td>1</td>\n",
       "    </tr>\n",
       "    <tr>\n",
       "      <th>13</th>\n",
       "      <td>2.317658</td>\n",
       "      <td>0.430710</td>\n",
       "      <td>-1.334216</td>\n",
       "      <td>0.199679</td>\n",
       "      <td>P</td>\n",
       "    </tr>\n",
       "    <tr>\n",
       "      <th>14</th>\n",
       "      <td>1.547771</td>\n",
       "      <td>-1.119753</td>\n",
       "      <td>-2.277634</td>\n",
       "      <td>0.329586</td>\n",
       "      <td>J</td>\n",
       "    </tr>\n",
       "    <tr>\n",
       "      <th>15</th>\n",
       "      <td>-1.310608</td>\n",
       "      <td>0.401719</td>\n",
       "      <td>-1.000987</td>\n",
       "      <td>1.156708</td>\n",
       "      <td>E</td>\n",
       "    </tr>\n",
       "    <tr>\n",
       "      <th>16</th>\n",
       "      <td>-0.088496</td>\n",
       "      <td>0.634712</td>\n",
       "      <td>0.153324</td>\n",
       "      <td>0.415335</td>\n",
       "      <td>B</td>\n",
       "    </tr>\n",
       "    <tr>\n",
       "      <th>17</th>\n",
       "      <td>-0.018663</td>\n",
       "      <td>-0.247487</td>\n",
       "      <td>-1.446522</td>\n",
       "      <td>0.750938</td>\n",
       "      <td>A</td>\n",
       "    </tr>\n",
       "    <tr>\n",
       "      <th>18</th>\n",
       "      <td>-0.070127</td>\n",
       "      <td>-1.579097</td>\n",
       "      <td>0.120892</td>\n",
       "      <td>0.671432</td>\n",
       "      <td>F</td>\n",
       "    </tr>\n",
       "    <tr>\n",
       "      <th>19</th>\n",
       "      <td>-0.194678</td>\n",
       "      <td>-0.492039</td>\n",
       "      <td>2.359605</td>\n",
       "      <td>0.319810</td>\n",
       "      <td>H</td>\n",
       "    </tr>\n",
       "    <tr>\n",
       "      <th>20</th>\n",
       "      <td>-0.248618</td>\n",
       "      <td>0.868707</td>\n",
       "      <td>-0.492226</td>\n",
       "      <td>-0.717959</td>\n",
       "      <td>W</td>\n",
       "    </tr>\n",
       "    <tr>\n",
       "      <th>21</th>\n",
       "      <td>-1.091549</td>\n",
       "      <td>-0.867110</td>\n",
       "      <td>-0.647760</td>\n",
       "      <td>-0.832562</td>\n",
       "      <td>C</td>\n",
       "    </tr>\n",
       "    <tr>\n",
       "      <th>22</th>\n",
       "      <td>0.641404</td>\n",
       "      <td>-0.138822</td>\n",
       "      <td>-0.621963</td>\n",
       "      <td>-0.284839</td>\n",
       "      <td>C</td>\n",
       "    </tr>\n",
       "    <tr>\n",
       "      <th>23</th>\n",
       "      <td>1.216408</td>\n",
       "      <td>0.992687</td>\n",
       "      <td>0.165162</td>\n",
       "      <td>-0.069619</td>\n",
       "      <td>V</td>\n",
       "    </tr>\n",
       "    <tr>\n",
       "      <th>24</th>\n",
       "      <td>-0.564474</td>\n",
       "      <td>0.792832</td>\n",
       "      <td>0.747053</td>\n",
       "      <td>0.571675</td>\n",
       "      <td>I</td>\n",
       "    </tr>\n",
       "    <tr>\n",
       "      <th>25</th>\n",
       "      <td>1.759879</td>\n",
       "      <td>-0.515666</td>\n",
       "      <td>-0.230481</td>\n",
       "      <td>1.362317</td>\n",
       "      <td>S</td>\n",
       "    </tr>\n",
       "    <tr>\n",
       "      <th>26</th>\n",
       "      <td>0.126266</td>\n",
       "      <td>0.309281</td>\n",
       "      <td>0.382820</td>\n",
       "      <td>-0.239199</td>\n",
       "      <td>L</td>\n",
       "    </tr>\n",
       "    <tr>\n",
       "      <th>27</th>\n",
       "      <td>1.334360</td>\n",
       "      <td>-0.100152</td>\n",
       "      <td>-0.840731</td>\n",
       "      <td>-0.643967</td>\n",
       "      <td>6</td>\n",
       "    </tr>\n",
       "    <tr>\n",
       "      <th>28</th>\n",
       "      <td>-0.737620</td>\n",
       "      <td>0.278087</td>\n",
       "      <td>-0.053235</td>\n",
       "      <td>-0.950972</td>\n",
       "      <td>J</td>\n",
       "    </tr>\n",
       "    <tr>\n",
       "      <th>29</th>\n",
       "      <td>-1.148486</td>\n",
       "      <td>-0.986292</td>\n",
       "      <td>-0.144963</td>\n",
       "      <td>0.124362</td>\n",
       "      <td>Y</td>\n",
       "    </tr>\n",
       "    <tr>\n",
       "      <th>...</th>\n",
       "      <td>...</td>\n",
       "      <td>...</td>\n",
       "      <td>...</td>\n",
       "      <td>...</td>\n",
       "      <td>...</td>\n",
       "    </tr>\n",
       "    <tr>\n",
       "      <th>9970</th>\n",
       "      <td>0.633495</td>\n",
       "      <td>-0.186524</td>\n",
       "      <td>0.927627</td>\n",
       "      <td>0.143164</td>\n",
       "      <td>4</td>\n",
       "    </tr>\n",
       "    <tr>\n",
       "      <th>9971</th>\n",
       "      <td>0.308636</td>\n",
       "      <td>-0.112857</td>\n",
       "      <td>0.762842</td>\n",
       "      <td>-1.072977</td>\n",
       "      <td>1</td>\n",
       "    </tr>\n",
       "    <tr>\n",
       "      <th>9972</th>\n",
       "      <td>-1.627051</td>\n",
       "      <td>-0.978151</td>\n",
       "      <td>0.154745</td>\n",
       "      <td>-1.229037</td>\n",
       "      <td>Z</td>\n",
       "    </tr>\n",
       "    <tr>\n",
       "      <th>9973</th>\n",
       "      <td>0.314847</td>\n",
       "      <td>0.097989</td>\n",
       "      <td>0.199608</td>\n",
       "      <td>0.955193</td>\n",
       "      <td>P</td>\n",
       "    </tr>\n",
       "    <tr>\n",
       "      <th>9974</th>\n",
       "      <td>1.666907</td>\n",
       "      <td>0.992005</td>\n",
       "      <td>0.496128</td>\n",
       "      <td>-0.686391</td>\n",
       "      <td>S</td>\n",
       "    </tr>\n",
       "    <tr>\n",
       "      <th>9975</th>\n",
       "      <td>0.010603</td>\n",
       "      <td>0.708540</td>\n",
       "      <td>-1.258711</td>\n",
       "      <td>0.226541</td>\n",
       "      <td>K</td>\n",
       "    </tr>\n",
       "    <tr>\n",
       "      <th>9976</th>\n",
       "      <td>0.118693</td>\n",
       "      <td>-0.714455</td>\n",
       "      <td>-0.501342</td>\n",
       "      <td>-0.254764</td>\n",
       "      <td>K</td>\n",
       "    </tr>\n",
       "    <tr>\n",
       "      <th>9977</th>\n",
       "      <td>0.302616</td>\n",
       "      <td>-2.011527</td>\n",
       "      <td>-0.628085</td>\n",
       "      <td>0.768827</td>\n",
       "      <td>H</td>\n",
       "    </tr>\n",
       "    <tr>\n",
       "      <th>9978</th>\n",
       "      <td>-0.098572</td>\n",
       "      <td>1.769086</td>\n",
       "      <td>-0.215027</td>\n",
       "      <td>-0.053076</td>\n",
       "      <td>A</td>\n",
       "    </tr>\n",
       "    <tr>\n",
       "      <th>9979</th>\n",
       "      <td>-0.019058</td>\n",
       "      <td>1.964994</td>\n",
       "      <td>0.738538</td>\n",
       "      <td>-0.883776</td>\n",
       "      <td>F</td>\n",
       "    </tr>\n",
       "    <tr>\n",
       "      <th>9980</th>\n",
       "      <td>-0.595349</td>\n",
       "      <td>0.001781</td>\n",
       "      <td>-1.423355</td>\n",
       "      <td>-1.458477</td>\n",
       "      <td>M</td>\n",
       "    </tr>\n",
       "    <tr>\n",
       "      <th>9981</th>\n",
       "      <td>1.392170</td>\n",
       "      <td>-1.396560</td>\n",
       "      <td>-1.425306</td>\n",
       "      <td>-0.847535</td>\n",
       "      <td>H</td>\n",
       "    </tr>\n",
       "    <tr>\n",
       "      <th>9982</th>\n",
       "      <td>-0.896029</td>\n",
       "      <td>-0.152287</td>\n",
       "      <td>1.924483</td>\n",
       "      <td>0.365184</td>\n",
       "      <td>6</td>\n",
       "    </tr>\n",
       "    <tr>\n",
       "      <th>9983</th>\n",
       "      <td>-2.274642</td>\n",
       "      <td>-0.901874</td>\n",
       "      <td>1.500352</td>\n",
       "      <td>0.996541</td>\n",
       "      <td>N</td>\n",
       "    </tr>\n",
       "    <tr>\n",
       "      <th>9984</th>\n",
       "      <td>-0.301898</td>\n",
       "      <td>1.019906</td>\n",
       "      <td>1.102160</td>\n",
       "      <td>2.624526</td>\n",
       "      <td>I</td>\n",
       "    </tr>\n",
       "    <tr>\n",
       "      <th>9985</th>\n",
       "      <td>-2.548389</td>\n",
       "      <td>-0.585374</td>\n",
       "      <td>1.496201</td>\n",
       "      <td>-0.718815</td>\n",
       "      <td>D</td>\n",
       "    </tr>\n",
       "    <tr>\n",
       "      <th>9986</th>\n",
       "      <td>-0.064588</td>\n",
       "      <td>0.759292</td>\n",
       "      <td>-1.568415</td>\n",
       "      <td>-0.420933</td>\n",
       "      <td>E</td>\n",
       "    </tr>\n",
       "    <tr>\n",
       "      <th>9987</th>\n",
       "      <td>-0.143365</td>\n",
       "      <td>-1.111760</td>\n",
       "      <td>-1.815581</td>\n",
       "      <td>0.435274</td>\n",
       "      <td>2</td>\n",
       "    </tr>\n",
       "    <tr>\n",
       "      <th>9988</th>\n",
       "      <td>-0.070412</td>\n",
       "      <td>-1.055921</td>\n",
       "      <td>0.338017</td>\n",
       "      <td>-0.440763</td>\n",
       "      <td>X</td>\n",
       "    </tr>\n",
       "    <tr>\n",
       "      <th>9989</th>\n",
       "      <td>0.649148</td>\n",
       "      <td>0.994273</td>\n",
       "      <td>-1.384227</td>\n",
       "      <td>0.485120</td>\n",
       "      <td>Q</td>\n",
       "    </tr>\n",
       "    <tr>\n",
       "      <th>9990</th>\n",
       "      <td>-0.370769</td>\n",
       "      <td>0.404356</td>\n",
       "      <td>-1.051628</td>\n",
       "      <td>-1.050899</td>\n",
       "      <td>8</td>\n",
       "    </tr>\n",
       "    <tr>\n",
       "      <th>9991</th>\n",
       "      <td>-0.409980</td>\n",
       "      <td>0.155627</td>\n",
       "      <td>-0.818990</td>\n",
       "      <td>1.277350</td>\n",
       "      <td>W</td>\n",
       "    </tr>\n",
       "    <tr>\n",
       "      <th>9992</th>\n",
       "      <td>0.301214</td>\n",
       "      <td>-1.111203</td>\n",
       "      <td>0.668258</td>\n",
       "      <td>0.671922</td>\n",
       "      <td>A</td>\n",
       "    </tr>\n",
       "    <tr>\n",
       "      <th>9993</th>\n",
       "      <td>1.821117</td>\n",
       "      <td>0.416445</td>\n",
       "      <td>0.173874</td>\n",
       "      <td>0.505118</td>\n",
       "      <td>X</td>\n",
       "    </tr>\n",
       "    <tr>\n",
       "      <th>9994</th>\n",
       "      <td>0.068804</td>\n",
       "      <td>1.322759</td>\n",
       "      <td>0.802346</td>\n",
       "      <td>0.223618</td>\n",
       "      <td>H</td>\n",
       "    </tr>\n",
       "    <tr>\n",
       "      <th>9995</th>\n",
       "      <td>2.311896</td>\n",
       "      <td>-0.417070</td>\n",
       "      <td>-1.409599</td>\n",
       "      <td>-0.515821</td>\n",
       "      <td>L</td>\n",
       "    </tr>\n",
       "    <tr>\n",
       "      <th>9996</th>\n",
       "      <td>-0.479893</td>\n",
       "      <td>-0.650419</td>\n",
       "      <td>0.745152</td>\n",
       "      <td>-0.646038</td>\n",
       "      <td>E</td>\n",
       "    </tr>\n",
       "    <tr>\n",
       "      <th>9997</th>\n",
       "      <td>0.523331</td>\n",
       "      <td>0.787112</td>\n",
       "      <td>0.486066</td>\n",
       "      <td>1.093156</td>\n",
       "      <td>K</td>\n",
       "    </tr>\n",
       "    <tr>\n",
       "      <th>9998</th>\n",
       "      <td>-0.362559</td>\n",
       "      <td>0.598894</td>\n",
       "      <td>-1.843201</td>\n",
       "      <td>0.887292</td>\n",
       "      <td>G</td>\n",
       "    </tr>\n",
       "    <tr>\n",
       "      <th>9999</th>\n",
       "      <td>-0.096376</td>\n",
       "      <td>-1.012999</td>\n",
       "      <td>-0.657431</td>\n",
       "      <td>-0.573315</td>\n",
       "      <td>0</td>\n",
       "    </tr>\n",
       "  </tbody>\n",
       "</table>\n",
       "<p>10000 rows × 5 columns</p>\n",
       "</div>"
      ],
      "text/plain": [
       "           one       two     three      four key\n",
       "0     0.467976 -0.038649 -0.295344 -1.824726   L\n",
       "1    -0.358893  1.404453  0.704965 -0.200638   B\n",
       "2    -0.501840  0.659254 -0.421691 -0.057688   G\n",
       "3     0.204886  1.074134  1.388361 -0.982404   R\n",
       "4     0.354628 -0.133116  0.283763 -0.837063   Q\n",
       "5     1.817480  0.742273  0.419395 -2.251035   Q\n",
       "6    -0.776764  0.935518 -0.332872 -1.875641   U\n",
       "7    -0.913135  1.530624 -0.572657  0.477252   K\n",
       "8     0.358480 -0.497572 -0.367016  0.507702   S\n",
       "9    -1.740877 -1.160417 -1.637830  2.172201   G\n",
       "10    0.240564 -0.328249  1.252155  1.072796   8\n",
       "11    0.764018  1.165476 -0.639544  1.495258   R\n",
       "12    0.571035 -0.310537  0.582437 -0.298765   1\n",
       "13    2.317658  0.430710 -1.334216  0.199679   P\n",
       "14    1.547771 -1.119753 -2.277634  0.329586   J\n",
       "15   -1.310608  0.401719 -1.000987  1.156708   E\n",
       "16   -0.088496  0.634712  0.153324  0.415335   B\n",
       "17   -0.018663 -0.247487 -1.446522  0.750938   A\n",
       "18   -0.070127 -1.579097  0.120892  0.671432   F\n",
       "19   -0.194678 -0.492039  2.359605  0.319810   H\n",
       "20   -0.248618  0.868707 -0.492226 -0.717959   W\n",
       "21   -1.091549 -0.867110 -0.647760 -0.832562   C\n",
       "22    0.641404 -0.138822 -0.621963 -0.284839   C\n",
       "23    1.216408  0.992687  0.165162 -0.069619   V\n",
       "24   -0.564474  0.792832  0.747053  0.571675   I\n",
       "25    1.759879 -0.515666 -0.230481  1.362317   S\n",
       "26    0.126266  0.309281  0.382820 -0.239199   L\n",
       "27    1.334360 -0.100152 -0.840731 -0.643967   6\n",
       "28   -0.737620  0.278087 -0.053235 -0.950972   J\n",
       "29   -1.148486 -0.986292 -0.144963  0.124362   Y\n",
       "...        ...       ...       ...       ...  ..\n",
       "9970  0.633495 -0.186524  0.927627  0.143164   4\n",
       "9971  0.308636 -0.112857  0.762842 -1.072977   1\n",
       "9972 -1.627051 -0.978151  0.154745 -1.229037   Z\n",
       "9973  0.314847  0.097989  0.199608  0.955193   P\n",
       "9974  1.666907  0.992005  0.496128 -0.686391   S\n",
       "9975  0.010603  0.708540 -1.258711  0.226541   K\n",
       "9976  0.118693 -0.714455 -0.501342 -0.254764   K\n",
       "9977  0.302616 -2.011527 -0.628085  0.768827   H\n",
       "9978 -0.098572  1.769086 -0.215027 -0.053076   A\n",
       "9979 -0.019058  1.964994  0.738538 -0.883776   F\n",
       "9980 -0.595349  0.001781 -1.423355 -1.458477   M\n",
       "9981  1.392170 -1.396560 -1.425306 -0.847535   H\n",
       "9982 -0.896029 -0.152287  1.924483  0.365184   6\n",
       "9983 -2.274642 -0.901874  1.500352  0.996541   N\n",
       "9984 -0.301898  1.019906  1.102160  2.624526   I\n",
       "9985 -2.548389 -0.585374  1.496201 -0.718815   D\n",
       "9986 -0.064588  0.759292 -1.568415 -0.420933   E\n",
       "9987 -0.143365 -1.111760 -1.815581  0.435274   2\n",
       "9988 -0.070412 -1.055921  0.338017 -0.440763   X\n",
       "9989  0.649148  0.994273 -1.384227  0.485120   Q\n",
       "9990 -0.370769  0.404356 -1.051628 -1.050899   8\n",
       "9991 -0.409980  0.155627 -0.818990  1.277350   W\n",
       "9992  0.301214 -1.111203  0.668258  0.671922   A\n",
       "9993  1.821117  0.416445  0.173874  0.505118   X\n",
       "9994  0.068804  1.322759  0.802346  0.223618   H\n",
       "9995  2.311896 -0.417070 -1.409599 -0.515821   L\n",
       "9996 -0.479893 -0.650419  0.745152 -0.646038   E\n",
       "9997  0.523331  0.787112  0.486066  1.093156   K\n",
       "9998 -0.362559  0.598894 -1.843201  0.887292   G\n",
       "9999 -0.096376 -1.012999 -0.657431 -0.573315   0\n",
       "\n",
       "[10000 rows x 5 columns]"
      ]
     },
     "execution_count": 36,
     "metadata": {},
     "output_type": "execute_result"
    }
   ],
   "source": [
    "result"
   ]
  },
  {
   "cell_type": "markdown",
   "metadata": {},
   "source": [
    "If you want to only read out a small number of rows (avoiding reading the entire file),\n",
    "specify that with nrows:"
   ]
  },
  {
   "cell_type": "code",
   "execution_count": 37,
   "metadata": {
    "collapsed": false
   },
   "outputs": [
    {
     "data": {
      "text/html": [
       "<div>\n",
       "<table border=\"1\" class=\"dataframe\">\n",
       "  <thead>\n",
       "    <tr style=\"text-align: right;\">\n",
       "      <th></th>\n",
       "      <th>one</th>\n",
       "      <th>two</th>\n",
       "      <th>three</th>\n",
       "      <th>four</th>\n",
       "      <th>key</th>\n",
       "    </tr>\n",
       "  </thead>\n",
       "  <tbody>\n",
       "    <tr>\n",
       "      <th>0</th>\n",
       "      <td>0.467976</td>\n",
       "      <td>-0.038649</td>\n",
       "      <td>-0.295344</td>\n",
       "      <td>-1.824726</td>\n",
       "      <td>L</td>\n",
       "    </tr>\n",
       "    <tr>\n",
       "      <th>1</th>\n",
       "      <td>-0.358893</td>\n",
       "      <td>1.404453</td>\n",
       "      <td>0.704965</td>\n",
       "      <td>-0.200638</td>\n",
       "      <td>B</td>\n",
       "    </tr>\n",
       "    <tr>\n",
       "      <th>2</th>\n",
       "      <td>-0.501840</td>\n",
       "      <td>0.659254</td>\n",
       "      <td>-0.421691</td>\n",
       "      <td>-0.057688</td>\n",
       "      <td>G</td>\n",
       "    </tr>\n",
       "    <tr>\n",
       "      <th>3</th>\n",
       "      <td>0.204886</td>\n",
       "      <td>1.074134</td>\n",
       "      <td>1.388361</td>\n",
       "      <td>-0.982404</td>\n",
       "      <td>R</td>\n",
       "    </tr>\n",
       "    <tr>\n",
       "      <th>4</th>\n",
       "      <td>0.354628</td>\n",
       "      <td>-0.133116</td>\n",
       "      <td>0.283763</td>\n",
       "      <td>-0.837063</td>\n",
       "      <td>Q</td>\n",
       "    </tr>\n",
       "  </tbody>\n",
       "</table>\n",
       "</div>"
      ],
      "text/plain": [
       "        one       two     three      four key\n",
       "0  0.467976 -0.038649 -0.295344 -1.824726   L\n",
       "1 -0.358893  1.404453  0.704965 -0.200638   B\n",
       "2 -0.501840  0.659254 -0.421691 -0.057688   G\n",
       "3  0.204886  1.074134  1.388361 -0.982404   R\n",
       "4  0.354628 -0.133116  0.283763 -0.837063   Q"
      ]
     },
     "execution_count": 37,
     "metadata": {},
     "output_type": "execute_result"
    }
   ],
   "source": [
    "pd.read_csv('ex6.csv', nrows=5)"
   ]
  },
  {
   "cell_type": "markdown",
   "metadata": {},
   "source": [
    "To read out a file in pieces, specify a chunksize as a number of rows:"
   ]
  },
  {
   "cell_type": "code",
   "execution_count": 38,
   "metadata": {
    "collapsed": true
   },
   "outputs": [],
   "source": [
    "chunker = pd.read_csv('ex6.csv', chunksize=1000)"
   ]
  },
  {
   "cell_type": "code",
   "execution_count": 39,
   "metadata": {
    "collapsed": false
   },
   "outputs": [
    {
     "data": {
      "text/plain": [
       "<pandas.io.parsers.TextFileReader at 0x10ef4bc18>"
      ]
     },
     "execution_count": 39,
     "metadata": {},
     "output_type": "execute_result"
    }
   ],
   "source": [
    "chunker"
   ]
  },
  {
   "cell_type": "markdown",
   "metadata": {},
   "source": [
    "The TextParser object returned by read_csv allows you to iterate over the parts of the\n",
    "file according to the chunksize. For example, we can iterate over ex6.csv, aggregating\n",
    "the value counts in the 'key' column like so:"
   ]
  },
  {
   "cell_type": "code",
   "execution_count": 48,
   "metadata": {
    "collapsed": true
   },
   "outputs": [],
   "source": [
    "chunker = pd.read_csv('ex6.csv', chunksize=1000)"
   ]
  },
  {
   "cell_type": "code",
   "execution_count": 49,
   "metadata": {
    "collapsed": false
   },
   "outputs": [],
   "source": [
    "tot = Series([])\n",
    "for piece in chunker:\n",
    "    tot = tot.add(piece['key'].value_counts(), fill_value=0)\n",
    "    \n",
    "tot = tot.sort_values(ascending=False)"
   ]
  },
  {
   "cell_type": "markdown",
   "metadata": {},
   "source": [
    "We have then:\n"
   ]
  },
  {
   "cell_type": "code",
   "execution_count": 50,
   "metadata": {
    "collapsed": false
   },
   "outputs": [
    {
     "data": {
      "text/plain": [
       "E    368.0\n",
       "X    364.0\n",
       "L    346.0\n",
       "O    343.0\n",
       "Q    340.0\n",
       "M    338.0\n",
       "J    337.0\n",
       "F    335.0\n",
       "K    334.0\n",
       "H    330.0\n",
       "dtype: float64"
      ]
     },
     "execution_count": 50,
     "metadata": {},
     "output_type": "execute_result"
    }
   ],
   "source": [
    "tot[:10]"
   ]
  },
  {
   "cell_type": "code",
   "execution_count": 47,
   "metadata": {
    "collapsed": false
   },
   "outputs": [
    {
     "data": {
      "text/plain": [
       "Series([], dtype: float64)"
      ]
     },
     "execution_count": 47,
     "metadata": {},
     "output_type": "execute_result"
    }
   ],
   "source": [
    "tot"
   ]
  },
  {
   "cell_type": "markdown",
   "metadata": {},
   "source": [
    "TextParser is also equipped with a get_chunk method which enables you to read pieces\n",
    "of an arbitrary size."
   ]
  },
  {
   "cell_type": "markdown",
   "metadata": {},
   "source": [
    "## Writing Data Out to Text Format\n",
    "\n",
    "Data can also be exported to delimited format. Let’s consider one of the CSV files read\n",
    "above:"
   ]
  },
  {
   "cell_type": "code",
   "execution_count": 51,
   "metadata": {
    "collapsed": true
   },
   "outputs": [],
   "source": [
    "data = pd.read_csv('ex5.csv')"
   ]
  },
  {
   "cell_type": "code",
   "execution_count": 53,
   "metadata": {
    "collapsed": false
   },
   "outputs": [
    {
     "data": {
      "text/html": [
       "<div>\n",
       "<table border=\"1\" class=\"dataframe\">\n",
       "  <thead>\n",
       "    <tr style=\"text-align: right;\">\n",
       "      <th></th>\n",
       "      <th>something</th>\n",
       "      <th>a</th>\n",
       "      <th>b</th>\n",
       "      <th>c</th>\n",
       "      <th>d</th>\n",
       "      <th>message</th>\n",
       "    </tr>\n",
       "  </thead>\n",
       "  <tbody>\n",
       "    <tr>\n",
       "      <th>0</th>\n",
       "      <td>one</td>\n",
       "      <td>1</td>\n",
       "      <td>2</td>\n",
       "      <td>3.0</td>\n",
       "      <td>4</td>\n",
       "      <td>NaN</td>\n",
       "    </tr>\n",
       "    <tr>\n",
       "      <th>1</th>\n",
       "      <td>two</td>\n",
       "      <td>5</td>\n",
       "      <td>6</td>\n",
       "      <td>NaN</td>\n",
       "      <td>8</td>\n",
       "      <td>world</td>\n",
       "    </tr>\n",
       "    <tr>\n",
       "      <th>2</th>\n",
       "      <td>three</td>\n",
       "      <td>9</td>\n",
       "      <td>10</td>\n",
       "      <td>11.0</td>\n",
       "      <td>12</td>\n",
       "      <td>foo</td>\n",
       "    </tr>\n",
       "  </tbody>\n",
       "</table>\n",
       "</div>"
      ],
      "text/plain": [
       "  something  a   b     c   d message\n",
       "0       one  1   2   3.0   4     NaN\n",
       "1       two  5   6   NaN   8   world\n",
       "2     three  9  10  11.0  12     foo"
      ]
     },
     "execution_count": 53,
     "metadata": {},
     "output_type": "execute_result"
    }
   ],
   "source": [
    "data"
   ]
  },
  {
   "cell_type": "markdown",
   "metadata": {},
   "source": [
    "Using DataFrame’s to_csv method, we can write the data out to a comma-separated file:"
   ]
  },
  {
   "cell_type": "code",
   "execution_count": 54,
   "metadata": {
    "collapsed": true
   },
   "outputs": [],
   "source": [
    "data.to_csv('out.csv')"
   ]
  },
  {
   "cell_type": "code",
   "execution_count": 55,
   "metadata": {
    "collapsed": false
   },
   "outputs": [
    {
     "name": "stdout",
     "output_type": "stream",
     "text": [
      ",something,a,b,c,d,message\r\n",
      "0,one,1,2,3.0,4,\r\n",
      "1,two,5,6,,8,world\r\n",
      "2,three,9,10,11.0,12,foo\r\n"
     ]
    }
   ],
   "source": [
    "!cat out.csv"
   ]
  },
  {
   "cell_type": "markdown",
   "metadata": {},
   "source": [
    "Other delimiters can be used, of course (writing to sys.stdout so it just prints the text\n",
    "result):"
   ]
  },
  {
   "cell_type": "code",
   "execution_count": 59,
   "metadata": {
    "collapsed": false
   },
   "outputs": [
    {
     "name": "stdout",
     "output_type": "stream",
     "text": [
      "|something|a|b|c|d|message\n",
      "0|one|1|2|3.0|4|\n",
      "1|two|5|6||8|world\n",
      "2|three|9|10|11.0|12|foo\n"
     ]
    }
   ],
   "source": [
    "data.to_csv(sys.stdout, sep='|')"
   ]
  },
  {
   "cell_type": "markdown",
   "metadata": {},
   "source": [
    "Missing values appear as empty strings in the output. You might want to denote them\n",
    "by some other sentinel value:"
   ]
  },
  {
   "cell_type": "code",
   "execution_count": 60,
   "metadata": {
    "collapsed": false
   },
   "outputs": [
    {
     "name": "stdout",
     "output_type": "stream",
     "text": [
      ",something,a,b,c,d,message\n",
      "0,one,1,2,3.0,4,NULL\n",
      "1,two,5,6,NULL,8,world\n",
      "2,three,9,10,11.0,12,foo\n"
     ]
    }
   ],
   "source": [
    "data.to_csv(sys.stdout, na_rep='NULL')"
   ]
  },
  {
   "cell_type": "markdown",
   "metadata": {},
   "source": [
    "With no other options specified, both the row and column labels are written. Both of\n",
    "these can be disabled:"
   ]
  },
  {
   "cell_type": "code",
   "execution_count": 61,
   "metadata": {
    "collapsed": false
   },
   "outputs": [
    {
     "name": "stdout",
     "output_type": "stream",
     "text": [
      "one,1,2,3.0,4,\n",
      "two,5,6,,8,world\n",
      "three,9,10,11.0,12,foo\n"
     ]
    }
   ],
   "source": [
    "data.to_csv(sys.stdout, index=False, header=False)"
   ]
  },
  {
   "cell_type": "markdown",
   "metadata": {},
   "source": [
    "You can also write only a subset of the columns, and in an order of your choosing:"
   ]
  },
  {
   "cell_type": "code",
   "execution_count": 63,
   "metadata": {
    "collapsed": false
   },
   "outputs": [
    {
     "name": "stdout",
     "output_type": "stream",
     "text": [
      "a,b,c\n",
      "1,2,3.0\n",
      "5,6,\n",
      "9,10,11.0\n"
     ]
    }
   ],
   "source": [
    "data.to_csv(sys.stdout, index=False, columns=['a', 'b', 'c'])"
   ]
  },
  {
   "cell_type": "markdown",
   "metadata": {},
   "source": [
    "Series also has a to_csv method:"
   ]
  },
  {
   "cell_type": "code",
   "execution_count": 65,
   "metadata": {
    "collapsed": false
   },
   "outputs": [],
   "source": [
    "dates = pd.date_range('1/1/2000', periods=7)"
   ]
  },
  {
   "cell_type": "code",
   "execution_count": 68,
   "metadata": {
    "collapsed": false
   },
   "outputs": [],
   "source": [
    "ts = Series(np.arange(7), index=dates)"
   ]
  },
  {
   "cell_type": "code",
   "execution_count": 70,
   "metadata": {
    "collapsed": false
   },
   "outputs": [],
   "source": [
    "ts.to_csv('tseries.csv')"
   ]
  },
  {
   "cell_type": "code",
   "execution_count": 71,
   "metadata": {
    "collapsed": false
   },
   "outputs": [
    {
     "name": "stdout",
     "output_type": "stream",
     "text": [
      "2000-01-01,0\r\n",
      "2000-01-02,1\r\n",
      "2000-01-03,2\r\n",
      "2000-01-04,3\r\n",
      "2000-01-05,4\r\n",
      "2000-01-06,5\r\n",
      "2000-01-07,6\r\n"
     ]
    }
   ],
   "source": [
    "!cat tseries.csv"
   ]
  },
  {
   "cell_type": "markdown",
   "metadata": {},
   "source": [
    "With a bit of wrangling (no header, first column as index), you can read a CSV version\n",
    "of a Series with read_csv, but there is also a from_csv convenience method that makes\n",
    "it a bit simpler:"
   ]
  },
  {
   "cell_type": "code",
   "execution_count": 72,
   "metadata": {
    "collapsed": false
   },
   "outputs": [
    {
     "data": {
      "text/plain": [
       "2000-01-01    0\n",
       "2000-01-02    1\n",
       "2000-01-03    2\n",
       "2000-01-04    3\n",
       "2000-01-05    4\n",
       "2000-01-06    5\n",
       "2000-01-07    6\n",
       "dtype: int64"
      ]
     },
     "execution_count": 72,
     "metadata": {},
     "output_type": "execute_result"
    }
   ],
   "source": [
    "Series.from_csv('tseries.csv', parse_dates=True)"
   ]
  },
  {
   "cell_type": "markdown",
   "metadata": {},
   "source": [
    "See the docstrings for to_csv and from_csv in IPython for more information."
   ]
  },
  {
   "cell_type": "markdown",
   "metadata": {},
   "source": [
    "## Manually Working with Delimited Formats\n",
    "\n",
    "Most forms of tabular data can be loaded from disk using functions like pan\n",
    "das.read_table. In some cases, however, some manual processing may be necessary.\n",
    "It’s not uncommon to receive a file with one or more malformed lines that trip up\n",
    "read_table. To illustrate the basic tools, consider a small CSV file:"
   ]
  },
  {
   "cell_type": "code",
   "execution_count": 73,
   "metadata": {
    "collapsed": false
   },
   "outputs": [
    {
     "name": "stdout",
     "output_type": "stream",
     "text": [
      "\"a\",\"b\",\"c\"\r\n",
      "\"1\",\"2\",\"3\"\r\n",
      "\"1\",\"2\",\"3\",\"4\"\r\n"
     ]
    }
   ],
   "source": [
    "!cat ex7.csv"
   ]
  },
  {
   "cell_type": "markdown",
   "metadata": {},
   "source": [
    "For any file with a single-character delimiter, you can use Python’s built-in csv module.\n",
    "To use it, pass any open file or file-like object to csv.reader:"
   ]
  },
  {
   "cell_type": "code",
   "execution_count": 76,
   "metadata": {
    "collapsed": true
   },
   "outputs": [],
   "source": [
    "import csv\n",
    "f = open('ex7.csv')\n",
    "\n",
    "reader = csv.reader(f)"
   ]
  },
  {
   "cell_type": "markdown",
   "metadata": {},
   "source": [
    "Iterating through the reader like a file yields tuples of values in each like with any quote\n",
    "characters removed:"
   ]
  },
  {
   "cell_type": "code",
   "execution_count": 78,
   "metadata": {
    "collapsed": false
   },
   "outputs": [
    {
     "name": "stdout",
     "output_type": "stream",
     "text": [
      "['a', 'b', 'c']\n",
      "['1', '2', '3']\n",
      "['1', '2', '3', '4']\n"
     ]
    }
   ],
   "source": [
    "for line in reader:\n",
    "    print (line)"
   ]
  },
  {
   "cell_type": "markdown",
   "metadata": {},
   "source": [
    "From there, it’s up to you to do the wrangling necessary to put the data in the form\n",
    "that you need it. For example:"
   ]
  },
  {
   "cell_type": "code",
   "execution_count": 79,
   "metadata": {
    "collapsed": true
   },
   "outputs": [],
   "source": [
    "lines = list(csv.reader(open('ex7.csv')))"
   ]
  },
  {
   "cell_type": "code",
   "execution_count": 80,
   "metadata": {
    "collapsed": true
   },
   "outputs": [],
   "source": [
    "header, values = lines[0], lines[1:]"
   ]
  },
  {
   "cell_type": "code",
   "execution_count": 81,
   "metadata": {
    "collapsed": true
   },
   "outputs": [],
   "source": [
    "data_dict = {h: v for h, v in zip(header, zip(*values))}"
   ]
  },
  {
   "cell_type": "code",
   "execution_count": 82,
   "metadata": {
    "collapsed": false
   },
   "outputs": [
    {
     "data": {
      "text/plain": [
       "{'a': ('1', '1'), 'b': ('2', '2'), 'c': ('3', '3')}"
      ]
     },
     "execution_count": 82,
     "metadata": {},
     "output_type": "execute_result"
    }
   ],
   "source": [
    "data_dict"
   ]
  },
  {
   "cell_type": "markdown",
   "metadata": {},
   "source": [
    "CSV files come in many different flavors. Defining a new format with a different delimiter,\n",
    "string quoting convention, or line terminator is done by defining a simple subclass\n",
    "of csv.Dialect:"
   ]
  },
  {
   "cell_type": "code",
   "execution_count": 85,
   "metadata": {
    "collapsed": true
   },
   "outputs": [],
   "source": [
    "# class my_dialect(csv.Dialect):\n",
    "#     lineterminator = '\\n'\n",
    "#     delimiter = ';'\n",
    "#     quotechar = '\"'\n",
    "\n",
    "class my_dialect(csv.Dialect):\n",
    "    lineterminator = '\\n'\n",
    "    delimiter = ';'\n",
    "    quotechar = '\"'"
   ]
  },
  {
   "cell_type": "code",
   "execution_count": 88,
   "metadata": {
    "collapsed": false
   },
   "outputs": [
    {
     "data": {
      "text/plain": [
       "<_csv.reader at 0x10f33d438>"
      ]
     },
     "execution_count": 88,
     "metadata": {},
     "output_type": "execute_result"
    }
   ],
   "source": [
    "reader = csv.reader(f, dialect=my_dialect, quoting=csv.QUOTE_NONE)\n",
    "reader"
   ]
  },
  {
   "cell_type": "markdown",
   "metadata": {},
   "source": [
    "Individual CSV dialect parameters can also be given as keywords to csv.reader without\n",
    "having to define a subclass:"
   ]
  },
  {
   "cell_type": "code",
   "execution_count": 89,
   "metadata": {
    "collapsed": true
   },
   "outputs": [],
   "source": [
    "reader = csv.reader(f,delimiter='|')"
   ]
  },
  {
   "cell_type": "markdown",
   "metadata": {},
   "source": [
    "The possible options (attributes of csv.Dialect) and what they do can be found in\n",
    "\n",
    "Table 6-3.\n",
    "\n",
    "Table 6-3. CSV dialect options\n",
    "\n",
    "Argument Description\n",
    "\n",
    "delimiter One-character string to separate fields. Defaults to ','.\n",
    "\n",
    "lineterminator Line terminator for writing, defaults to '\\r\\n'. Reader ignores this and recognizes\n",
    "\n",
    "cross-platform line terminators.\n",
    "\n",
    "quotechar Quote character for fields with special characters (like a delimiter). Default is '\"'.\n",
    "\n",
    "quoting Quoting convention. Options include csv.QUOTE_ALL (quote all fields), csv.QUOTE_MINIMAL (only fields with special characters like the delimiter),csv.QUOTE_NONNUMERIC, and csv.QUOTE_NON (no quoting). See Python’s documentation for full details. Defaults to QUOTE_MINIMAL.\n",
    "\n",
    "skipinitialspace Ignore whitespace after each delimiter. Default False.\n",
    "\n",
    "doublequote How to handle quoting character inside a field. If True, it is doubled. See online\n",
    "documentation for full detail and behavior.\n",
    "\n",
    "escapechar String to escape the delimiter if quoting is set to csv.QUOTE_NONE. Disabled by\n",
    "default"
   ]
  },
  {
   "cell_type": "code",
   "execution_count": null,
   "metadata": {
    "collapsed": true
   },
   "outputs": [],
   "source": []
  },
  {
   "cell_type": "markdown",
   "metadata": {},
   "source": [
    "For files with more complicated or fixed multicharacter delimiters, you\n",
    "will not be able to use the csv module. In those cases, you’ll have to do\n",
    "the line splitting and other cleanup using string’s split method or the\n",
    "regular expression method re.split."
   ]
  },
  {
   "cell_type": "code",
   "execution_count": null,
   "metadata": {
    "collapsed": true
   },
   "outputs": [],
   "source": [
    "\n"
   ]
  },
  {
   "cell_type": "markdown",
   "metadata": {},
   "source": [
    "To write delimited files manually, you can use csv.writer. It accepts an open, writable\n",
    "file object and the same dialect and format options as csv.reader:"
   ]
  },
  {
   "cell_type": "code",
   "execution_count": 92,
   "metadata": {
    "collapsed": false
   },
   "outputs": [],
   "source": [
    "with open('mydata.csv', 'w') as f:\n",
    "    writer = csv.writer(f, dialect=my_dialect, quoting=csv.QUOTE_NONE)\n",
    "    writer.writerow(('one', 'two', 'three'))\n",
    "    writer.writerow(('1', '2', '3'))\n",
    "    writer.writerow(('4', '5', '6'))\n",
    "    writer.writerow(('7', '8', '9'))"
   ]
  },
  {
   "cell_type": "code",
   "execution_count": null,
   "metadata": {
    "collapsed": true
   },
   "outputs": [],
   "source": []
  },
  {
   "cell_type": "markdown",
   "metadata": {},
   "source": [
    "## JSON Data\n",
    "\n",
    "JSON (short for JavaScript Object Notation) has become one of the standard formats\n",
    "for sending data by HTTP request between web browsers and other applications. It is\n",
    "a much more flexible data format than a tabular text form like CSV. Here is an example:"
   ]
  },
  {
   "cell_type": "code",
   "execution_count": 93,
   "metadata": {
    "collapsed": true
   },
   "outputs": [],
   "source": [
    "obj = \"\"\"\n",
    "{\"name\": \"Wes\",\n",
    "\"places_lived\": [\"United States\", \"Spain\", \"Germany\"],\n",
    "\"pet\": null,\n",
    "\"siblings\": [{\"name\": \"Scott\", \"age\": 25, \"pet\": \"Zuko\"},\n",
    "{\"name\": \"Katie\", \"age\": 33, \"pet\": \"Cisco\"}]\n",
    "}\n",
    "\"\"\""
   ]
  },
  {
   "cell_type": "code",
   "execution_count": 94,
   "metadata": {
    "collapsed": false
   },
   "outputs": [
    {
     "data": {
      "text/plain": [
       "'\\n{\"name\": \"Wes\",\\n\"places_lived\": [\"United States\", \"Spain\", \"Germany\"],\\n\"pet\": null,\\n\"siblings\": [{\"name\": \"Scott\", \"age\": 25, \"pet\": \"Zuko\"},\\n{\"name\": \"Katie\", \"age\": 33, \"pet\": \"Cisco\"}]\\n}\\n'"
      ]
     },
     "execution_count": 94,
     "metadata": {},
     "output_type": "execute_result"
    }
   ],
   "source": [
    "obj"
   ]
  },
  {
   "cell_type": "code",
   "execution_count": null,
   "metadata": {
    "collapsed": true
   },
   "outputs": [],
   "source": []
  },
  {
   "cell_type": "markdown",
   "metadata": {},
   "source": [
    "JSON is very nearly valid Python code with the exception of its null value null and\n",
    "some other nuances (such as disallowing trailing commas at the end of lists). The basic\n",
    "types are objects (dicts), arrays (lists), strings, numbers, booleans, and nulls. All of the\n",
    "keys in an object must be strings. There are several Python libraries for reading and\n",
    "writing JSON data. I’ll use json here as it is built into the Python standard library. To\n",
    "convert a JSON string to Python form, use json.loads:"
   ]
  },
  {
   "cell_type": "code",
   "execution_count": 96,
   "metadata": {
    "collapsed": true
   },
   "outputs": [],
   "source": [
    "import json"
   ]
  },
  {
   "cell_type": "code",
   "execution_count": 98,
   "metadata": {
    "collapsed": true
   },
   "outputs": [],
   "source": [
    "result = json.loads(obj)"
   ]
  },
  {
   "cell_type": "code",
   "execution_count": 99,
   "metadata": {
    "collapsed": false
   },
   "outputs": [
    {
     "data": {
      "text/plain": [
       "{'name': 'Wes',\n",
       " 'pet': None,\n",
       " 'places_lived': ['United States', 'Spain', 'Germany'],\n",
       " 'siblings': [{'age': 25, 'name': 'Scott', 'pet': 'Zuko'},\n",
       "  {'age': 33, 'name': 'Katie', 'pet': 'Cisco'}]}"
      ]
     },
     "execution_count": 99,
     "metadata": {},
     "output_type": "execute_result"
    }
   ],
   "source": [
    "result"
   ]
  },
  {
   "cell_type": "markdown",
   "metadata": {},
   "source": [
    "json.dumps on the other hand converts a Python object back to JSON:"
   ]
  },
  {
   "cell_type": "code",
   "execution_count": 100,
   "metadata": {
    "collapsed": true
   },
   "outputs": [],
   "source": [
    "asjson = json.dumps(result)"
   ]
  },
  {
   "cell_type": "code",
   "execution_count": 101,
   "metadata": {
    "collapsed": false
   },
   "outputs": [
    {
     "data": {
      "text/plain": [
       "'{\"pet\": null, \"name\": \"Wes\", \"places_lived\": [\"United States\", \"Spain\", \"Germany\"], \"siblings\": [{\"pet\": \"Zuko\", \"name\": \"Scott\", \"age\": 25}, {\"pet\": \"Cisco\", \"name\": \"Katie\", \"age\": 33}]}'"
      ]
     },
     "execution_count": 101,
     "metadata": {},
     "output_type": "execute_result"
    }
   ],
   "source": [
    "asjson"
   ]
  },
  {
   "cell_type": "markdown",
   "metadata": {},
   "source": [
    "How you convert a JSON object or list of objects to a DataFrame or some other data\n",
    "structure for analysis will be up to you. Conveniently, you can pass a list of JSON objects\n",
    "to the DataFrame constructor and select a subset of the data fields:"
   ]
  },
  {
   "cell_type": "code",
   "execution_count": 102,
   "metadata": {
    "collapsed": true
   },
   "outputs": [],
   "source": [
    "siblings = DataFrame(result['siblings'], columns=['name', 'age'])"
   ]
  },
  {
   "cell_type": "code",
   "execution_count": 103,
   "metadata": {
    "collapsed": false
   },
   "outputs": [
    {
     "data": {
      "text/html": [
       "<div>\n",
       "<table border=\"1\" class=\"dataframe\">\n",
       "  <thead>\n",
       "    <tr style=\"text-align: right;\">\n",
       "      <th></th>\n",
       "      <th>name</th>\n",
       "      <th>age</th>\n",
       "    </tr>\n",
       "  </thead>\n",
       "  <tbody>\n",
       "    <tr>\n",
       "      <th>0</th>\n",
       "      <td>Scott</td>\n",
       "      <td>25</td>\n",
       "    </tr>\n",
       "    <tr>\n",
       "      <th>1</th>\n",
       "      <td>Katie</td>\n",
       "      <td>33</td>\n",
       "    </tr>\n",
       "  </tbody>\n",
       "</table>\n",
       "</div>"
      ],
      "text/plain": [
       "    name  age\n",
       "0  Scott   25\n",
       "1  Katie   33"
      ]
     },
     "execution_count": 103,
     "metadata": {},
     "output_type": "execute_result"
    }
   ],
   "source": [
    "siblings"
   ]
  },
  {
   "cell_type": "code",
   "execution_count": 104,
   "metadata": {
    "collapsed": false
   },
   "outputs": [
    {
     "ename": "ValueError",
     "evalue": "arrays must all be same length",
     "output_type": "error",
     "traceback": [
      "\u001b[0;31m---------------------------------------------------------------------------\u001b[0m",
      "\u001b[0;31mValueError\u001b[0m                                Traceback (most recent call last)",
      "\u001b[0;32m<ipython-input-104-d713149132e8>\u001b[0m in \u001b[0;36m<module>\u001b[0;34m()\u001b[0m\n\u001b[0;32m----> 1\u001b[0;31m \u001b[0msiblings_test\u001b[0m \u001b[0;34m=\u001b[0m \u001b[0mDataFrame\u001b[0m\u001b[0;34m(\u001b[0m\u001b[0mresult\u001b[0m\u001b[0;34m,\u001b[0m \u001b[0mcolumns\u001b[0m\u001b[0;34m=\u001b[0m\u001b[0;34m[\u001b[0m\u001b[0;34m'pet'\u001b[0m\u001b[0;34m,\u001b[0m \u001b[0;34m'name'\u001b[0m\u001b[0;34m,\u001b[0m \u001b[0;34m'places_lived'\u001b[0m\u001b[0;34m,\u001b[0m \u001b[0;34m'siblings'\u001b[0m\u001b[0;34m]\u001b[0m\u001b[0;34m)\u001b[0m\u001b[0;34m\u001b[0m\u001b[0m\n\u001b[0m",
      "\u001b[0;32m/Users/Kevin/anaconda/lib/python3.5/site-packages/pandas/core/frame.py\u001b[0m in \u001b[0;36m__init__\u001b[0;34m(self, data, index, columns, dtype, copy)\u001b[0m\n\u001b[1;32m    264\u001b[0m                                  dtype=dtype, copy=copy)\n\u001b[1;32m    265\u001b[0m         \u001b[0;32melif\u001b[0m \u001b[0misinstance\u001b[0m\u001b[0;34m(\u001b[0m\u001b[0mdata\u001b[0m\u001b[0;34m,\u001b[0m \u001b[0mdict\u001b[0m\u001b[0;34m)\u001b[0m\u001b[0;34m:\u001b[0m\u001b[0;34m\u001b[0m\u001b[0m\n\u001b[0;32m--> 266\u001b[0;31m             \u001b[0mmgr\u001b[0m \u001b[0;34m=\u001b[0m \u001b[0mself\u001b[0m\u001b[0;34m.\u001b[0m\u001b[0m_init_dict\u001b[0m\u001b[0;34m(\u001b[0m\u001b[0mdata\u001b[0m\u001b[0;34m,\u001b[0m \u001b[0mindex\u001b[0m\u001b[0;34m,\u001b[0m \u001b[0mcolumns\u001b[0m\u001b[0;34m,\u001b[0m \u001b[0mdtype\u001b[0m\u001b[0;34m=\u001b[0m\u001b[0mdtype\u001b[0m\u001b[0;34m)\u001b[0m\u001b[0;34m\u001b[0m\u001b[0m\n\u001b[0m\u001b[1;32m    267\u001b[0m         \u001b[0;32melif\u001b[0m \u001b[0misinstance\u001b[0m\u001b[0;34m(\u001b[0m\u001b[0mdata\u001b[0m\u001b[0;34m,\u001b[0m \u001b[0mma\u001b[0m\u001b[0;34m.\u001b[0m\u001b[0mMaskedArray\u001b[0m\u001b[0;34m)\u001b[0m\u001b[0;34m:\u001b[0m\u001b[0;34m\u001b[0m\u001b[0m\n\u001b[1;32m    268\u001b[0m             \u001b[0;32mimport\u001b[0m \u001b[0mnumpy\u001b[0m\u001b[0;34m.\u001b[0m\u001b[0mma\u001b[0m\u001b[0;34m.\u001b[0m\u001b[0mmrecords\u001b[0m \u001b[0;32mas\u001b[0m \u001b[0mmrecords\u001b[0m\u001b[0;34m\u001b[0m\u001b[0m\n",
      "\u001b[0;32m/Users/Kevin/anaconda/lib/python3.5/site-packages/pandas/core/frame.py\u001b[0m in \u001b[0;36m_init_dict\u001b[0;34m(self, data, index, columns, dtype)\u001b[0m\n\u001b[1;32m    358\u001b[0m             \u001b[0;31m# raise ValueError if only scalars in dict\u001b[0m\u001b[0;34m\u001b[0m\u001b[0;34m\u001b[0m\u001b[0m\n\u001b[1;32m    359\u001b[0m             \u001b[0;32mif\u001b[0m \u001b[0mindex\u001b[0m \u001b[0;32mis\u001b[0m \u001b[0;32mNone\u001b[0m\u001b[0;34m:\u001b[0m\u001b[0;34m\u001b[0m\u001b[0m\n\u001b[0;32m--> 360\u001b[0;31m                 \u001b[0mextract_index\u001b[0m\u001b[0;34m(\u001b[0m\u001b[0mlist\u001b[0m\u001b[0;34m(\u001b[0m\u001b[0mdata\u001b[0m\u001b[0;34m.\u001b[0m\u001b[0mvalues\u001b[0m\u001b[0;34m(\u001b[0m\u001b[0;34m)\u001b[0m\u001b[0;34m)\u001b[0m\u001b[0;34m)\u001b[0m\u001b[0;34m\u001b[0m\u001b[0m\n\u001b[0m\u001b[1;32m    361\u001b[0m \u001b[0;34m\u001b[0m\u001b[0m\n\u001b[1;32m    362\u001b[0m             \u001b[0;31m# prefilter if columns passed\u001b[0m\u001b[0;34m\u001b[0m\u001b[0;34m\u001b[0m\u001b[0m\n",
      "\u001b[0;32m/Users/Kevin/anaconda/lib/python3.5/site-packages/pandas/core/frame.py\u001b[0m in \u001b[0;36mextract_index\u001b[0;34m(data)\u001b[0m\n\u001b[1;32m   5444\u001b[0m             \u001b[0mlengths\u001b[0m \u001b[0;34m=\u001b[0m \u001b[0mlist\u001b[0m\u001b[0;34m(\u001b[0m\u001b[0mset\u001b[0m\u001b[0;34m(\u001b[0m\u001b[0mraw_lengths\u001b[0m\u001b[0;34m)\u001b[0m\u001b[0;34m)\u001b[0m\u001b[0;34m\u001b[0m\u001b[0m\n\u001b[1;32m   5445\u001b[0m             \u001b[0;32mif\u001b[0m \u001b[0mlen\u001b[0m\u001b[0;34m(\u001b[0m\u001b[0mlengths\u001b[0m\u001b[0;34m)\u001b[0m \u001b[0;34m>\u001b[0m \u001b[0;36m1\u001b[0m\u001b[0;34m:\u001b[0m\u001b[0;34m\u001b[0m\u001b[0m\n\u001b[0;32m-> 5446\u001b[0;31m                 \u001b[0;32mraise\u001b[0m \u001b[0mValueError\u001b[0m\u001b[0;34m(\u001b[0m\u001b[0;34m'arrays must all be same length'\u001b[0m\u001b[0;34m)\u001b[0m\u001b[0;34m\u001b[0m\u001b[0m\n\u001b[0m\u001b[1;32m   5447\u001b[0m \u001b[0;34m\u001b[0m\u001b[0m\n\u001b[1;32m   5448\u001b[0m             \u001b[0;32mif\u001b[0m \u001b[0mhave_dicts\u001b[0m\u001b[0;34m:\u001b[0m\u001b[0;34m\u001b[0m\u001b[0m\n",
      "\u001b[0;31mValueError\u001b[0m: arrays must all be same length"
     ]
    }
   ],
   "source": [
    "siblings_test = DataFrame(result, columns=['pet', 'name', 'places_lived', 'siblings'])"
   ]
  },
  {
   "cell_type": "markdown",
   "metadata": {},
   "source": [
    "For an extended example of reading and manipulating JSON data (including nested\n",
    "records), see the USDA Food Database example in the next chapter."
   ]
  },
  {
   "cell_type": "code",
   "execution_count": null,
   "metadata": {
    "collapsed": true
   },
   "outputs": [],
   "source": []
  },
  {
   "cell_type": "markdown",
   "metadata": {},
   "source": [
    "NOTE\n",
    "An effort is underway to add fast native JSON export (to_json) and\n",
    "decoding (from_json) to pandas. This was not ready at the time of writing."
   ]
  },
  {
   "cell_type": "code",
   "execution_count": null,
   "metadata": {
    "collapsed": true
   },
   "outputs": [],
   "source": [
    "\n"
   ]
  },
  {
   "cell_type": "markdown",
   "metadata": {},
   "source": [
    "## XML and HTML: Web Scraping\n",
    "\n",
    "Python has many libraries for reading and writing data in the ubiquitous HTML and\n",
    "XML formats. lxml (http://lxml.de) is one that has consistently strong performance in\n",
    "parsing very large files. lxml has multiple programmer interfaces; first I’ll show using\n",
    "lxml.html for HTML, then parse some XML using lxml.objectify.\n",
    "\n",
    "Many websites make data available in HTML tables for viewing in a browser, but not\n",
    "downloadable as an easily machine-readable format like JSON, HTML, or XML. I noticed\n",
    "that this was the case with Yahoo! Finance’s stock options data. If you aren’t\n",
    "familiar with this data; options are derivative contracts giving you the right to buy\n",
    "(call option) or sell (put option) a company’s stock at some particular price (the\n",
    "strike) between now and some fixed point in the future (the expiry). People trade both\n",
    "call and put options across many strikes and expiries; this data can all be found together\n",
    "in tables on Yahoo! Finance."
   ]
  },
  {
   "cell_type": "markdown",
   "metadata": {},
   "source": [
    "To get started, find the URL you want to extract data from, open it with urllib2 and\n",
    "parse the stream with lxml like so:"
   ]
  },
  {
   "cell_type": "code",
   "execution_count": 108,
   "metadata": {
    "collapsed": false
   },
   "outputs": [],
   "source": [
    "from lxml.html import parse\n",
    "# from urllib2 import urlopen\n",
    "from urllib.request import urlopen\n",
    "\n",
    "parsed = parse(urlopen('http://finance.yahoo.com/q/op?s=AAPL+Options'))\n",
    "\n",
    "doc = parsed.getroot()"
   ]
  },
  {
   "cell_type": "markdown",
   "metadata": {},
   "source": [
    "Using this object, you can extract all HTML tags of a particular type, such as table tags\n",
    "containing the data of interest. As a simple motivating example, suppose you wanted\n",
    "to get a list of every URL linked to in the document; links are a tags in HTML. Using\n",
    "the document root’s findall method along with an XPath (a means of expressing\n",
    "“queries” on the document):"
   ]
  },
  {
   "cell_type": "code",
   "execution_count": 109,
   "metadata": {
    "collapsed": true
   },
   "outputs": [],
   "source": [
    "links = doc.findall('.//a')"
   ]
  },
  {
   "cell_type": "code",
   "execution_count": 112,
   "metadata": {
    "collapsed": false
   },
   "outputs": [
    {
     "data": {
      "text/plain": [
       "[<Element a at 0x10f14d598>,\n",
       " <Element a at 0x10f14d5e8>,\n",
       " <Element a at 0x10f14d638>,\n",
       " <Element a at 0x10f14d688>,\n",
       " <Element a at 0x10f14d6d8>]"
      ]
     },
     "execution_count": 112,
     "metadata": {},
     "output_type": "execute_result"
    }
   ],
   "source": [
    "links[15:20]"
   ]
  },
  {
   "cell_type": "markdown",
   "metadata": {},
   "source": [
    "But these are objects representing HTML elements; to get the URL and link text you\n",
    "have to use each element’s get method (for the URL) and text_content method (for\n",
    "the display text):"
   ]
  },
  {
   "cell_type": "code",
   "execution_count": 113,
   "metadata": {
    "collapsed": true
   },
   "outputs": [],
   "source": [
    "lnk = links[28]"
   ]
  },
  {
   "cell_type": "code",
   "execution_count": 114,
   "metadata": {
    "collapsed": false
   },
   "outputs": [
    {
     "data": {
      "text/plain": [
       "<Element a at 0x10f14d9a8>"
      ]
     },
     "execution_count": 114,
     "metadata": {},
     "output_type": "execute_result"
    }
   ],
   "source": [
    "lnk"
   ]
  },
  {
   "cell_type": "code",
   "execution_count": 115,
   "metadata": {
    "collapsed": false
   },
   "outputs": [
    {
     "data": {
      "text/plain": [
       "'/quote/AMZN?p=AMZN'"
      ]
     },
     "execution_count": 115,
     "metadata": {},
     "output_type": "execute_result"
    }
   ],
   "source": [
    "lnk.get('href')"
   ]
  },
  {
   "cell_type": "code",
   "execution_count": 116,
   "metadata": {
    "collapsed": false
   },
   "outputs": [
    {
     "data": {
      "text/plain": [
       "'AMZN'"
      ]
     },
     "execution_count": 116,
     "metadata": {},
     "output_type": "execute_result"
    }
   ],
   "source": [
    "lnk.text_content()"
   ]
  },
  {
   "cell_type": "markdown",
   "metadata": {},
   "source": [
    "Thus, getting a list of all URLs in the document is a matter of writing this list comprehension:"
   ]
  },
  {
   "cell_type": "code",
   "execution_count": 117,
   "metadata": {
    "collapsed": true
   },
   "outputs": [],
   "source": [
    "urls = [lnk.get('href') for lnk in doc.findall('.//a')]"
   ]
  },
  {
   "cell_type": "code",
   "execution_count": 119,
   "metadata": {
    "collapsed": false
   },
   "outputs": [
    {
     "data": {
      "text/plain": [
       "['/quote/AAPL/analysts?p=AAPL',\n",
       " 'https://help.yahoo.com/kb/index?page=content&y=PROD_MAIL_ML&locale=en_US&id=SLN2310&actp=productlink',\n",
       " 'http://help.yahoo.com/l/us/yahoo/finance/',\n",
       " 'https://yahoo.uservoice.com/forums/382977',\n",
       " 'http://info.yahoo.com/privacy/us/yahoo/',\n",
       " 'http://info.yahoo.com/relevantads/',\n",
       " 'http://info.yahoo.com/legal/us/yahoo/utos/utos-173.html',\n",
       " 'http://twitter.com/YahooFinance',\n",
       " 'http://facebook.com/yahoofinance',\n",
       " 'http://yahoofinance.tumblr.com']"
      ]
     },
     "execution_count": 119,
     "metadata": {},
     "output_type": "execute_result"
    }
   ],
   "source": [
    "urls[-10:]"
   ]
  },
  {
   "cell_type": "markdown",
   "metadata": {},
   "source": [
    "Now, finding the right tables in the document can be a matter of trial and error; some\n",
    "websites make it easier by giving a table of interest an id attribute. I determined that\n",
    "these were the two tables containing the call data and put data, respectively:"
   ]
  },
  {
   "cell_type": "code",
   "execution_count": 121,
   "metadata": {
    "collapsed": false
   },
   "outputs": [],
   "source": [
    "tables = doc.findall('.//table')\n",
    "\n",
    "# calls = tables[9]\n",
    "# puts = tables[13]"
   ]
  },
  {
   "cell_type": "code",
   "execution_count": 124,
   "metadata": {
    "collapsed": false
   },
   "outputs": [
    {
     "data": {
      "text/plain": [
       "<Element table at 0x10f15c048>"
      ]
     },
     "execution_count": 124,
     "metadata": {},
     "output_type": "execute_result"
    }
   ],
   "source": [
    "tables[0]"
   ]
  },
  {
   "cell_type": "markdown",
   "metadata": {},
   "source": [
    "Each table has a header row followed by each of the data rows:"
   ]
  },
  {
   "cell_type": "code",
   "execution_count": 125,
   "metadata": {
    "collapsed": true
   },
   "outputs": [],
   "source": [
    "# rows = calls.findall('.//tr')"
   ]
  },
  {
   "cell_type": "markdown",
   "metadata": {},
   "source": [
    "For the header as well as the data rows, we want to extract the text from each cell; in\n",
    "the case of the header these are th cells and td cells for the data:"
   ]
  },
  {
   "cell_type": "code",
   "execution_count": 126,
   "metadata": {
    "collapsed": true
   },
   "outputs": [],
   "source": [
    "# def _unpack(row, kind='td'):\n",
    "#     elts = row.findall('.//%s' % kind)\n",
    "#     return [val.text_content() for val in elts]"
   ]
  },
  {
   "cell_type": "markdown",
   "metadata": {},
   "source": [
    "Thus, we obtain:"
   ]
  },
  {
   "cell_type": "code",
   "execution_count": 127,
   "metadata": {
    "collapsed": true
   },
   "outputs": [],
   "source": [
    "# _unpack(rows[0], kind='th')"
   ]
  },
  {
   "cell_type": "code",
   "execution_count": 128,
   "metadata": {
    "collapsed": true
   },
   "outputs": [],
   "source": [
    "# _unpack(rows[1], kind='td')"
   ]
  },
  {
   "cell_type": "markdown",
   "metadata": {},
   "source": [
    "Now, it’s a matter of combining all of these steps together to convert this data into a\n",
    "DataFrame. Since the numerical data is still in string format, we want to convert some,\n",
    "but perhaps not all of the columns to floating point format. You could do this by hand,\n",
    "but, luckily, pandas has a class TextParser that is used internally in the read_csv and\n",
    "other parsing functions to do the appropriate automatic type conversion:"
   ]
  },
  {
   "cell_type": "code",
   "execution_count": 129,
   "metadata": {
    "collapsed": true
   },
   "outputs": [],
   "source": [
    "from pandas.io.parsers import TextParser"
   ]
  },
  {
   "cell_type": "code",
   "execution_count": 130,
   "metadata": {
    "collapsed": true
   },
   "outputs": [],
   "source": [
    "def parse_options_data(table):\n",
    "    rows = table.findall('.//tr')\n",
    "    header = _unpack(rows[0], kind='th')\n",
    "    data = [_unpack(r) for r in rows[1:]]\n",
    "    return TextParser(data, names=header).get_chunk()"
   ]
  },
  {
   "cell_type": "markdown",
   "metadata": {},
   "source": [
    "Finally, we invoke this parsing function on the lxml table objects and get DataFrame\n",
    "results:"
   ]
  },
  {
   "cell_type": "code",
   "execution_count": 132,
   "metadata": {
    "collapsed": false
   },
   "outputs": [
    {
     "ename": "NameError",
     "evalue": "name 'calls' is not defined",
     "output_type": "error",
     "traceback": [
      "\u001b[0;31m---------------------------------------------------------------------------\u001b[0m",
      "\u001b[0;31mNameError\u001b[0m                                 Traceback (most recent call last)",
      "\u001b[0;32m<ipython-input-132-7d251a955cad>\u001b[0m in \u001b[0;36m<module>\u001b[0;34m()\u001b[0m\n\u001b[0;32m----> 1\u001b[0;31m \u001b[0mcall_data\u001b[0m \u001b[0;34m=\u001b[0m \u001b[0mparse_options_data\u001b[0m\u001b[0;34m(\u001b[0m\u001b[0mcalls\u001b[0m\u001b[0;34m)\u001b[0m\u001b[0;34m\u001b[0m\u001b[0m\n\u001b[0m",
      "\u001b[0;31mNameError\u001b[0m: name 'calls' is not defined"
     ]
    }
   ],
   "source": [
    "# call_data = parse_options_data(calls)"
   ]
  },
  {
   "cell_type": "code",
   "execution_count": 133,
   "metadata": {
    "collapsed": true
   },
   "outputs": [],
   "source": [
    "# put_data = parse_options_data(puts)"
   ]
  },
  {
   "cell_type": "code",
   "execution_count": 134,
   "metadata": {
    "collapsed": true
   },
   "outputs": [],
   "source": [
    "# call_data[:10]"
   ]
  },
  {
   "cell_type": "code",
   "execution_count": null,
   "metadata": {
    "collapsed": true
   },
   "outputs": [],
   "source": []
  },
  {
   "cell_type": "markdown",
   "metadata": {},
   "source": [
    "Parsing XML with lxml.objectify\n",
    "\n",
    "XML (extensible markup language) is another common structured data format supporting\n",
    "hierarchical, nested data with metadata. The files that generate the book you\n",
    "are reading actually form a series of large XML documents.\n",
    "\n",
    "Above, I showed the lxml library and its lxml.html interface. Here I show an alternate\n",
    "interface that’s convenient for XML data, lxml.objectify.\n",
    "\n",
    "The New York Metropolitan Transportation Authority (MTA) publishes a number of\n",
    "data series about its bus and train services (http://www.mta.info/developers/download\n",
    ".html). Here we’ll look at the performance data which is contained in a set of XML files.\n",
    "Each train or bus service has a different file (like Performance_MNR.xml for the Metro-\n",
    "North Railroad) containing monthly data as a series of XML records that look like this:\n",
    "\n",
    "<INDICATOR>\n",
    "<INDICATOR_SEQ>373889</INDICATOR_SEQ>\n",
    "<PARENT_SEQ></PARENT_SEQ>\n",
    "<AGENCY_NAME>Metro-North Railroad</AGENCY_NAME>\n",
    "<INDICATOR_NAME>Escalator Availability</INDICATOR_NAME>\n",
    "<DESCRIPTION>Percent of the time that escalators are operational\n",
    "systemwide. The availability rate is based on physical observations performed\n",
    "the morning of regular business days only. This is a new indicator the agency\n",
    "began reporting in 2009.</DESCRIPTION>\n",
    "<PERIOD_YEAR>2011</PERIOD_YEAR>\n",
    "<PERIOD_MONTH>12</PERIOD_MONTH>\n",
    "<CATEGORY>Service Indicators</CATEGORY>\n",
    "<FREQUENCY>M</FREQUENCY>\n",
    "<DESIRED_CHANGE>U</DESIRED_CHANGE>\n",
    "<INDICATOR_UNIT>%</INDICATOR_UNIT>\n",
    "<DECIMAL_PLACES>1</DECIMAL_PLACES>\n",
    "<YTD_TARGET>97.00</YTD_TARGET>\n",
    "<YTD_ACTUAL></YTD_ACTUAL>\n",
    "<MONTHLY_TARGET>97.00</MONTHLY_TARGET>\n",
    "<MONTHLY_ACTUAL></MONTHLY_ACTUAL>\n",
    "</INDICATOR>"
   ]
  },
  {
   "cell_type": "code",
   "execution_count": null,
   "metadata": {
    "collapsed": true
   },
   "outputs": [],
   "source": []
  },
  {
   "cell_type": "markdown",
   "metadata": {},
   "source": [
    "Using lxml.objectify, we parse the file and get a reference to the root node of the XML\n",
    "file with getroot:"
   ]
  },
  {
   "cell_type": "code",
   "execution_count": 137,
   "metadata": {
    "collapsed": false
   },
   "outputs": [],
   "source": [
    "from lxml import objectify\n",
    "\n",
    "path = 'Performance_MNR.xml'\n",
    "parsed = objectify.parse(open(path))\n",
    "root = parsed.getroot()"
   ]
  },
  {
   "cell_type": "markdown",
   "metadata": {},
   "source": [
    "root.INDICATOR return a generator yielding each <INDICATOR> XML element. For each\n",
    "record, we can populate a dict of tag names (like YTD_ACTUAL) to data values (excluding\n",
    "a few tags):"
   ]
  },
  {
   "cell_type": "code",
   "execution_count": 139,
   "metadata": {
    "collapsed": true
   },
   "outputs": [],
   "source": [
    "data = []\n",
    "\n",
    "skip_fields = ['PARENT_SEQ', 'INDICATOR_SEQ', 'DESIRED_CHANGE', 'DECIMAL_PLACES']\n",
    "\n",
    "for elt in root.INDICATOR:\n",
    "    el_data = {}\n",
    "    for child in elt.getchildren():\n",
    "        if child.tag in skip_fields:\n",
    "            continue\n",
    "        el_data[child.tag] = child.pyval\n",
    "    data.append(el_data)"
   ]
  },
  {
   "cell_type": "markdown",
   "metadata": {},
   "source": [
    "Lastly, convert this list of dicts into a DataFrame:"
   ]
  },
  {
   "cell_type": "code",
   "execution_count": 140,
   "metadata": {
    "collapsed": true
   },
   "outputs": [],
   "source": [
    "perf = DataFrame(data)"
   ]
  },
  {
   "cell_type": "code",
   "execution_count": 141,
   "metadata": {
    "collapsed": false
   },
   "outputs": [
    {
     "data": {
      "text/html": [
       "<div>\n",
       "<table border=\"1\" class=\"dataframe\">\n",
       "  <thead>\n",
       "    <tr style=\"text-align: right;\">\n",
       "      <th></th>\n",
       "      <th>AGENCY_NAME</th>\n",
       "      <th>CATEGORY</th>\n",
       "      <th>DESCRIPTION</th>\n",
       "      <th>FREQUENCY</th>\n",
       "      <th>INDICATOR_NAME</th>\n",
       "      <th>INDICATOR_UNIT</th>\n",
       "      <th>MONTHLY_ACTUAL</th>\n",
       "      <th>MONTHLY_TARGET</th>\n",
       "      <th>PERIOD_MONTH</th>\n",
       "      <th>PERIOD_YEAR</th>\n",
       "      <th>YTD_ACTUAL</th>\n",
       "      <th>YTD_TARGET</th>\n",
       "    </tr>\n",
       "  </thead>\n",
       "  <tbody>\n",
       "    <tr>\n",
       "      <th>0</th>\n",
       "      <td>Metro-North Railroad</td>\n",
       "      <td>Service Indicators</td>\n",
       "      <td>Percent of commuter trains that arrive at thei...</td>\n",
       "      <td>M</td>\n",
       "      <td>On-Time Performance (West of Hudson)</td>\n",
       "      <td>%</td>\n",
       "      <td>96.9</td>\n",
       "      <td>95</td>\n",
       "      <td>1</td>\n",
       "      <td>2008</td>\n",
       "      <td>96.9</td>\n",
       "      <td>95</td>\n",
       "    </tr>\n",
       "    <tr>\n",
       "      <th>1</th>\n",
       "      <td>Metro-North Railroad</td>\n",
       "      <td>Service Indicators</td>\n",
       "      <td>Percent of commuter trains that arrive at thei...</td>\n",
       "      <td>M</td>\n",
       "      <td>On-Time Performance (West of Hudson)</td>\n",
       "      <td>%</td>\n",
       "      <td>95</td>\n",
       "      <td>95</td>\n",
       "      <td>2</td>\n",
       "      <td>2008</td>\n",
       "      <td>96</td>\n",
       "      <td>95</td>\n",
       "    </tr>\n",
       "    <tr>\n",
       "      <th>2</th>\n",
       "      <td>Metro-North Railroad</td>\n",
       "      <td>Service Indicators</td>\n",
       "      <td>Percent of commuter trains that arrive at thei...</td>\n",
       "      <td>M</td>\n",
       "      <td>On-Time Performance (West of Hudson)</td>\n",
       "      <td>%</td>\n",
       "      <td>96.9</td>\n",
       "      <td>95</td>\n",
       "      <td>3</td>\n",
       "      <td>2008</td>\n",
       "      <td>96.3</td>\n",
       "      <td>95</td>\n",
       "    </tr>\n",
       "    <tr>\n",
       "      <th>3</th>\n",
       "      <td>Metro-North Railroad</td>\n",
       "      <td>Service Indicators</td>\n",
       "      <td>Percent of commuter trains that arrive at thei...</td>\n",
       "      <td>M</td>\n",
       "      <td>On-Time Performance (West of Hudson)</td>\n",
       "      <td>%</td>\n",
       "      <td>98.3</td>\n",
       "      <td>95</td>\n",
       "      <td>4</td>\n",
       "      <td>2008</td>\n",
       "      <td>96.8</td>\n",
       "      <td>95</td>\n",
       "    </tr>\n",
       "    <tr>\n",
       "      <th>4</th>\n",
       "      <td>Metro-North Railroad</td>\n",
       "      <td>Service Indicators</td>\n",
       "      <td>Percent of commuter trains that arrive at thei...</td>\n",
       "      <td>M</td>\n",
       "      <td>On-Time Performance (West of Hudson)</td>\n",
       "      <td>%</td>\n",
       "      <td>95.8</td>\n",
       "      <td>95</td>\n",
       "      <td>5</td>\n",
       "      <td>2008</td>\n",
       "      <td>96.6</td>\n",
       "      <td>95</td>\n",
       "    </tr>\n",
       "    <tr>\n",
       "      <th>5</th>\n",
       "      <td>Metro-North Railroad</td>\n",
       "      <td>Service Indicators</td>\n",
       "      <td>Percent of commuter trains that arrive at thei...</td>\n",
       "      <td>M</td>\n",
       "      <td>On-Time Performance (West of Hudson)</td>\n",
       "      <td>%</td>\n",
       "      <td>94.4</td>\n",
       "      <td>95</td>\n",
       "      <td>6</td>\n",
       "      <td>2008</td>\n",
       "      <td>96.2</td>\n",
       "      <td>95</td>\n",
       "    </tr>\n",
       "    <tr>\n",
       "      <th>6</th>\n",
       "      <td>Metro-North Railroad</td>\n",
       "      <td>Service Indicators</td>\n",
       "      <td>Percent of commuter trains that arrive at thei...</td>\n",
       "      <td>M</td>\n",
       "      <td>On-Time Performance (West of Hudson)</td>\n",
       "      <td>%</td>\n",
       "      <td>96</td>\n",
       "      <td>95</td>\n",
       "      <td>7</td>\n",
       "      <td>2008</td>\n",
       "      <td>96.2</td>\n",
       "      <td>95</td>\n",
       "    </tr>\n",
       "    <tr>\n",
       "      <th>7</th>\n",
       "      <td>Metro-North Railroad</td>\n",
       "      <td>Service Indicators</td>\n",
       "      <td>Percent of commuter trains that arrive at thei...</td>\n",
       "      <td>M</td>\n",
       "      <td>On-Time Performance (West of Hudson)</td>\n",
       "      <td>%</td>\n",
       "      <td>96.4</td>\n",
       "      <td>95</td>\n",
       "      <td>8</td>\n",
       "      <td>2008</td>\n",
       "      <td>96.2</td>\n",
       "      <td>95</td>\n",
       "    </tr>\n",
       "    <tr>\n",
       "      <th>8</th>\n",
       "      <td>Metro-North Railroad</td>\n",
       "      <td>Service Indicators</td>\n",
       "      <td>Percent of commuter trains that arrive at thei...</td>\n",
       "      <td>M</td>\n",
       "      <td>On-Time Performance (West of Hudson)</td>\n",
       "      <td>%</td>\n",
       "      <td>93.7</td>\n",
       "      <td>95</td>\n",
       "      <td>9</td>\n",
       "      <td>2008</td>\n",
       "      <td>95.9</td>\n",
       "      <td>95</td>\n",
       "    </tr>\n",
       "    <tr>\n",
       "      <th>9</th>\n",
       "      <td>Metro-North Railroad</td>\n",
       "      <td>Service Indicators</td>\n",
       "      <td>Percent of commuter trains that arrive at thei...</td>\n",
       "      <td>M</td>\n",
       "      <td>On-Time Performance (West of Hudson)</td>\n",
       "      <td>%</td>\n",
       "      <td>96.4</td>\n",
       "      <td>95</td>\n",
       "      <td>10</td>\n",
       "      <td>2008</td>\n",
       "      <td>96</td>\n",
       "      <td>95</td>\n",
       "    </tr>\n",
       "    <tr>\n",
       "      <th>10</th>\n",
       "      <td>Metro-North Railroad</td>\n",
       "      <td>Service Indicators</td>\n",
       "      <td>Percent of commuter trains that arrive at thei...</td>\n",
       "      <td>M</td>\n",
       "      <td>On-Time Performance (West of Hudson)</td>\n",
       "      <td>%</td>\n",
       "      <td>96.9</td>\n",
       "      <td>95</td>\n",
       "      <td>11</td>\n",
       "      <td>2008</td>\n",
       "      <td>96.1</td>\n",
       "      <td>95</td>\n",
       "    </tr>\n",
       "    <tr>\n",
       "      <th>11</th>\n",
       "      <td>Metro-North Railroad</td>\n",
       "      <td>Service Indicators</td>\n",
       "      <td>Percent of commuter trains that arrive at thei...</td>\n",
       "      <td>M</td>\n",
       "      <td>On-Time Performance (West of Hudson)</td>\n",
       "      <td>%</td>\n",
       "      <td>95.1</td>\n",
       "      <td>95</td>\n",
       "      <td>12</td>\n",
       "      <td>2008</td>\n",
       "      <td>96</td>\n",
       "      <td>95</td>\n",
       "    </tr>\n",
       "    <tr>\n",
       "      <th>12</th>\n",
       "      <td>Metro-North Railroad</td>\n",
       "      <td>Service Indicators</td>\n",
       "      <td>Percent of commuter trains that arrive at thei...</td>\n",
       "      <td>M</td>\n",
       "      <td>On-Time Performance (West of Hudson)</td>\n",
       "      <td>%</td>\n",
       "      <td>92.6</td>\n",
       "      <td>96.2</td>\n",
       "      <td>1</td>\n",
       "      <td>2009</td>\n",
       "      <td>92.6</td>\n",
       "      <td>96.2</td>\n",
       "    </tr>\n",
       "    <tr>\n",
       "      <th>13</th>\n",
       "      <td>Metro-North Railroad</td>\n",
       "      <td>Service Indicators</td>\n",
       "      <td>Percent of commuter trains that arrive at thei...</td>\n",
       "      <td>M</td>\n",
       "      <td>On-Time Performance (West of Hudson)</td>\n",
       "      <td>%</td>\n",
       "      <td>96.8</td>\n",
       "      <td>96.2</td>\n",
       "      <td>2</td>\n",
       "      <td>2009</td>\n",
       "      <td>94.6</td>\n",
       "      <td>96.2</td>\n",
       "    </tr>\n",
       "    <tr>\n",
       "      <th>14</th>\n",
       "      <td>Metro-North Railroad</td>\n",
       "      <td>Service Indicators</td>\n",
       "      <td>Percent of commuter trains that arrive at thei...</td>\n",
       "      <td>M</td>\n",
       "      <td>On-Time Performance (West of Hudson)</td>\n",
       "      <td>%</td>\n",
       "      <td>96.9</td>\n",
       "      <td>96.2</td>\n",
       "      <td>3</td>\n",
       "      <td>2009</td>\n",
       "      <td>95.4</td>\n",
       "      <td>96.2</td>\n",
       "    </tr>\n",
       "    <tr>\n",
       "      <th>15</th>\n",
       "      <td>Metro-North Railroad</td>\n",
       "      <td>Service Indicators</td>\n",
       "      <td>Percent of commuter trains that arrive at thei...</td>\n",
       "      <td>M</td>\n",
       "      <td>On-Time Performance (West of Hudson)</td>\n",
       "      <td>%</td>\n",
       "      <td>97.1</td>\n",
       "      <td>96.2</td>\n",
       "      <td>4</td>\n",
       "      <td>2009</td>\n",
       "      <td>95.9</td>\n",
       "      <td>96.2</td>\n",
       "    </tr>\n",
       "    <tr>\n",
       "      <th>16</th>\n",
       "      <td>Metro-North Railroad</td>\n",
       "      <td>Service Indicators</td>\n",
       "      <td>Percent of commuter trains that arrive at thei...</td>\n",
       "      <td>M</td>\n",
       "      <td>On-Time Performance (West of Hudson)</td>\n",
       "      <td>%</td>\n",
       "      <td>97.8</td>\n",
       "      <td>96.2</td>\n",
       "      <td>5</td>\n",
       "      <td>2009</td>\n",
       "      <td>96.2</td>\n",
       "      <td>96.2</td>\n",
       "    </tr>\n",
       "    <tr>\n",
       "      <th>17</th>\n",
       "      <td>Metro-North Railroad</td>\n",
       "      <td>Service Indicators</td>\n",
       "      <td>Percent of commuter trains that arrive at thei...</td>\n",
       "      <td>M</td>\n",
       "      <td>On-Time Performance (West of Hudson)</td>\n",
       "      <td>%</td>\n",
       "      <td>97.3</td>\n",
       "      <td>96.2</td>\n",
       "      <td>6</td>\n",
       "      <td>2009</td>\n",
       "      <td>96.4</td>\n",
       "      <td>96.2</td>\n",
       "    </tr>\n",
       "    <tr>\n",
       "      <th>18</th>\n",
       "      <td>Metro-North Railroad</td>\n",
       "      <td>Service Indicators</td>\n",
       "      <td>Percent of commuter trains that arrive at thei...</td>\n",
       "      <td>M</td>\n",
       "      <td>On-Time Performance (West of Hudson)</td>\n",
       "      <td>%</td>\n",
       "      <td>96.7</td>\n",
       "      <td>96.2</td>\n",
       "      <td>7</td>\n",
       "      <td>2009</td>\n",
       "      <td>96.5</td>\n",
       "      <td>96.2</td>\n",
       "    </tr>\n",
       "    <tr>\n",
       "      <th>19</th>\n",
       "      <td>Metro-North Railroad</td>\n",
       "      <td>Service Indicators</td>\n",
       "      <td>Percent of commuter trains that arrive at thei...</td>\n",
       "      <td>M</td>\n",
       "      <td>On-Time Performance (West of Hudson)</td>\n",
       "      <td>%</td>\n",
       "      <td>95.7</td>\n",
       "      <td>96.2</td>\n",
       "      <td>8</td>\n",
       "      <td>2009</td>\n",
       "      <td>96.4</td>\n",
       "      <td>96.2</td>\n",
       "    </tr>\n",
       "    <tr>\n",
       "      <th>20</th>\n",
       "      <td>Metro-North Railroad</td>\n",
       "      <td>Service Indicators</td>\n",
       "      <td>Percent of commuter trains that arrive at thei...</td>\n",
       "      <td>M</td>\n",
       "      <td>On-Time Performance (West of Hudson)</td>\n",
       "      <td>%</td>\n",
       "      <td>96.1</td>\n",
       "      <td>96.2</td>\n",
       "      <td>9</td>\n",
       "      <td>2009</td>\n",
       "      <td>96.3</td>\n",
       "      <td>96.2</td>\n",
       "    </tr>\n",
       "    <tr>\n",
       "      <th>21</th>\n",
       "      <td>Metro-North Railroad</td>\n",
       "      <td>Service Indicators</td>\n",
       "      <td>Percent of commuter trains that arrive at thei...</td>\n",
       "      <td>M</td>\n",
       "      <td>On-Time Performance (West of Hudson)</td>\n",
       "      <td>%</td>\n",
       "      <td>94.8</td>\n",
       "      <td>96.2</td>\n",
       "      <td>10</td>\n",
       "      <td>2009</td>\n",
       "      <td>96.2</td>\n",
       "      <td>96.2</td>\n",
       "    </tr>\n",
       "    <tr>\n",
       "      <th>22</th>\n",
       "      <td>Metro-North Railroad</td>\n",
       "      <td>Service Indicators</td>\n",
       "      <td>Percent of commuter trains that arrive at thei...</td>\n",
       "      <td>M</td>\n",
       "      <td>On-Time Performance (West of Hudson)</td>\n",
       "      <td>%</td>\n",
       "      <td>95.7</td>\n",
       "      <td>96.2</td>\n",
       "      <td>11</td>\n",
       "      <td>2009</td>\n",
       "      <td>96.1</td>\n",
       "      <td>96.2</td>\n",
       "    </tr>\n",
       "    <tr>\n",
       "      <th>23</th>\n",
       "      <td>Metro-North Railroad</td>\n",
       "      <td>Service Indicators</td>\n",
       "      <td>Percent of commuter trains that arrive at thei...</td>\n",
       "      <td>M</td>\n",
       "      <td>On-Time Performance (West of Hudson)</td>\n",
       "      <td>%</td>\n",
       "      <td>95</td>\n",
       "      <td>96.2</td>\n",
       "      <td>12</td>\n",
       "      <td>2009</td>\n",
       "      <td>96</td>\n",
       "      <td>96.2</td>\n",
       "    </tr>\n",
       "    <tr>\n",
       "      <th>24</th>\n",
       "      <td>Metro-North Railroad</td>\n",
       "      <td>Service Indicators</td>\n",
       "      <td>Percent of commuter trains that arrive at thei...</td>\n",
       "      <td>M</td>\n",
       "      <td>On-Time Performance (West of Hudson)</td>\n",
       "      <td>%</td>\n",
       "      <td>98</td>\n",
       "      <td>96.3</td>\n",
       "      <td>1</td>\n",
       "      <td>2010</td>\n",
       "      <td>98</td>\n",
       "      <td>96.3</td>\n",
       "    </tr>\n",
       "    <tr>\n",
       "      <th>25</th>\n",
       "      <td>Metro-North Railroad</td>\n",
       "      <td>Service Indicators</td>\n",
       "      <td>Percent of commuter trains that arrive at thei...</td>\n",
       "      <td>M</td>\n",
       "      <td>On-Time Performance (West of Hudson)</td>\n",
       "      <td>%</td>\n",
       "      <td>93</td>\n",
       "      <td>96.3</td>\n",
       "      <td>2</td>\n",
       "      <td>2010</td>\n",
       "      <td>95.6</td>\n",
       "      <td>96.3</td>\n",
       "    </tr>\n",
       "    <tr>\n",
       "      <th>26</th>\n",
       "      <td>Metro-North Railroad</td>\n",
       "      <td>Service Indicators</td>\n",
       "      <td>Percent of commuter trains that arrive at thei...</td>\n",
       "      <td>M</td>\n",
       "      <td>On-Time Performance (West of Hudson)</td>\n",
       "      <td>%</td>\n",
       "      <td>96.9</td>\n",
       "      <td>96.3</td>\n",
       "      <td>3</td>\n",
       "      <td>2010</td>\n",
       "      <td>96.1</td>\n",
       "      <td>96.3</td>\n",
       "    </tr>\n",
       "    <tr>\n",
       "      <th>27</th>\n",
       "      <td>Metro-North Railroad</td>\n",
       "      <td>Service Indicators</td>\n",
       "      <td>Percent of commuter trains that arrive at thei...</td>\n",
       "      <td>M</td>\n",
       "      <td>On-Time Performance (West of Hudson)</td>\n",
       "      <td>%</td>\n",
       "      <td>98.1</td>\n",
       "      <td>96.3</td>\n",
       "      <td>4</td>\n",
       "      <td>2010</td>\n",
       "      <td>96.6</td>\n",
       "      <td>96.3</td>\n",
       "    </tr>\n",
       "    <tr>\n",
       "      <th>28</th>\n",
       "      <td>Metro-North Railroad</td>\n",
       "      <td>Service Indicators</td>\n",
       "      <td>Percent of commuter trains that arrive at thei...</td>\n",
       "      <td>M</td>\n",
       "      <td>On-Time Performance (West of Hudson)</td>\n",
       "      <td>%</td>\n",
       "      <td>97.6</td>\n",
       "      <td>96.3</td>\n",
       "      <td>5</td>\n",
       "      <td>2010</td>\n",
       "      <td>96.8</td>\n",
       "      <td>96.3</td>\n",
       "    </tr>\n",
       "    <tr>\n",
       "      <th>29</th>\n",
       "      <td>Metro-North Railroad</td>\n",
       "      <td>Service Indicators</td>\n",
       "      <td>Percent of commuter trains that arrive at thei...</td>\n",
       "      <td>M</td>\n",
       "      <td>On-Time Performance (West of Hudson)</td>\n",
       "      <td>%</td>\n",
       "      <td>97.4</td>\n",
       "      <td>96.3</td>\n",
       "      <td>6</td>\n",
       "      <td>2010</td>\n",
       "      <td>96.9</td>\n",
       "      <td>96.3</td>\n",
       "    </tr>\n",
       "    <tr>\n",
       "      <th>...</th>\n",
       "      <td>...</td>\n",
       "      <td>...</td>\n",
       "      <td>...</td>\n",
       "      <td>...</td>\n",
       "      <td>...</td>\n",
       "      <td>...</td>\n",
       "      <td>...</td>\n",
       "      <td>...</td>\n",
       "      <td>...</td>\n",
       "      <td>...</td>\n",
       "      <td>...</td>\n",
       "      <td>...</td>\n",
       "    </tr>\n",
       "    <tr>\n",
       "      <th>618</th>\n",
       "      <td>Metro-North Railroad</td>\n",
       "      <td>Service Indicators</td>\n",
       "      <td>Percent of the time that escalators are operat...</td>\n",
       "      <td>M</td>\n",
       "      <td>Escalator Availability</td>\n",
       "      <td>%</td>\n",
       "      <td>94</td>\n",
       "      <td></td>\n",
       "      <td>7</td>\n",
       "      <td>2009</td>\n",
       "      <td>95.14</td>\n",
       "      <td></td>\n",
       "    </tr>\n",
       "    <tr>\n",
       "      <th>619</th>\n",
       "      <td>Metro-North Railroad</td>\n",
       "      <td>Service Indicators</td>\n",
       "      <td>Percent of the time that escalators are operat...</td>\n",
       "      <td>M</td>\n",
       "      <td>Escalator Availability</td>\n",
       "      <td>%</td>\n",
       "      <td>97</td>\n",
       "      <td></td>\n",
       "      <td>8</td>\n",
       "      <td>2009</td>\n",
       "      <td>95.38</td>\n",
       "      <td></td>\n",
       "    </tr>\n",
       "    <tr>\n",
       "      <th>620</th>\n",
       "      <td>Metro-North Railroad</td>\n",
       "      <td>Service Indicators</td>\n",
       "      <td>Percent of the time that escalators are operat...</td>\n",
       "      <td>M</td>\n",
       "      <td>Escalator Availability</td>\n",
       "      <td>%</td>\n",
       "      <td>98.3</td>\n",
       "      <td></td>\n",
       "      <td>9</td>\n",
       "      <td>2009</td>\n",
       "      <td>95.7</td>\n",
       "      <td></td>\n",
       "    </tr>\n",
       "    <tr>\n",
       "      <th>621</th>\n",
       "      <td>Metro-North Railroad</td>\n",
       "      <td>Service Indicators</td>\n",
       "      <td>Percent of the time that escalators are operat...</td>\n",
       "      <td>M</td>\n",
       "      <td>Escalator Availability</td>\n",
       "      <td>%</td>\n",
       "      <td>98.7</td>\n",
       "      <td></td>\n",
       "      <td>10</td>\n",
       "      <td>2009</td>\n",
       "      <td>96</td>\n",
       "      <td></td>\n",
       "    </tr>\n",
       "    <tr>\n",
       "      <th>622</th>\n",
       "      <td>Metro-North Railroad</td>\n",
       "      <td>Service Indicators</td>\n",
       "      <td>Percent of the time that escalators are operat...</td>\n",
       "      <td>M</td>\n",
       "      <td>Escalator Availability</td>\n",
       "      <td>%</td>\n",
       "      <td>98.1</td>\n",
       "      <td></td>\n",
       "      <td>11</td>\n",
       "      <td>2009</td>\n",
       "      <td>96.21</td>\n",
       "      <td></td>\n",
       "    </tr>\n",
       "    <tr>\n",
       "      <th>623</th>\n",
       "      <td>Metro-North Railroad</td>\n",
       "      <td>Service Indicators</td>\n",
       "      <td>Percent of the time that escalators are operat...</td>\n",
       "      <td>M</td>\n",
       "      <td>Escalator Availability</td>\n",
       "      <td>%</td>\n",
       "      <td>100</td>\n",
       "      <td></td>\n",
       "      <td>12</td>\n",
       "      <td>2009</td>\n",
       "      <td>96.5</td>\n",
       "      <td></td>\n",
       "    </tr>\n",
       "    <tr>\n",
       "      <th>624</th>\n",
       "      <td>Metro-North Railroad</td>\n",
       "      <td>Service Indicators</td>\n",
       "      <td>Percent of the time that escalators are operat...</td>\n",
       "      <td>M</td>\n",
       "      <td>Escalator Availability</td>\n",
       "      <td>%</td>\n",
       "      <td>97.95</td>\n",
       "      <td>97</td>\n",
       "      <td>1</td>\n",
       "      <td>2010</td>\n",
       "      <td>97.95</td>\n",
       "      <td>97</td>\n",
       "    </tr>\n",
       "    <tr>\n",
       "      <th>625</th>\n",
       "      <td>Metro-North Railroad</td>\n",
       "      <td>Service Indicators</td>\n",
       "      <td>Percent of the time that escalators are operat...</td>\n",
       "      <td>M</td>\n",
       "      <td>Escalator Availability</td>\n",
       "      <td>%</td>\n",
       "      <td>100</td>\n",
       "      <td>97</td>\n",
       "      <td>2</td>\n",
       "      <td>2010</td>\n",
       "      <td>98.92</td>\n",
       "      <td>97</td>\n",
       "    </tr>\n",
       "    <tr>\n",
       "      <th>626</th>\n",
       "      <td>Metro-North Railroad</td>\n",
       "      <td>Service Indicators</td>\n",
       "      <td>Percent of the time that escalators are operat...</td>\n",
       "      <td>M</td>\n",
       "      <td>Escalator Availability</td>\n",
       "      <td>%</td>\n",
       "      <td>100</td>\n",
       "      <td>97</td>\n",
       "      <td>3</td>\n",
       "      <td>2010</td>\n",
       "      <td>99.29</td>\n",
       "      <td>97</td>\n",
       "    </tr>\n",
       "    <tr>\n",
       "      <th>627</th>\n",
       "      <td>Metro-North Railroad</td>\n",
       "      <td>Service Indicators</td>\n",
       "      <td>Percent of the time that escalators are operat...</td>\n",
       "      <td>M</td>\n",
       "      <td>Escalator Availability</td>\n",
       "      <td>%</td>\n",
       "      <td>100</td>\n",
       "      <td>97</td>\n",
       "      <td>4</td>\n",
       "      <td>2010</td>\n",
       "      <td>99.47</td>\n",
       "      <td>97</td>\n",
       "    </tr>\n",
       "    <tr>\n",
       "      <th>628</th>\n",
       "      <td>Metro-North Railroad</td>\n",
       "      <td>Service Indicators</td>\n",
       "      <td>Percent of the time that escalators are operat...</td>\n",
       "      <td>M</td>\n",
       "      <td>Escalator Availability</td>\n",
       "      <td>%</td>\n",
       "      <td>100</td>\n",
       "      <td>97</td>\n",
       "      <td>5</td>\n",
       "      <td>2010</td>\n",
       "      <td>99.58</td>\n",
       "      <td>97</td>\n",
       "    </tr>\n",
       "    <tr>\n",
       "      <th>629</th>\n",
       "      <td>Metro-North Railroad</td>\n",
       "      <td>Service Indicators</td>\n",
       "      <td>Percent of the time that escalators are operat...</td>\n",
       "      <td>M</td>\n",
       "      <td>Escalator Availability</td>\n",
       "      <td>%</td>\n",
       "      <td>91.21</td>\n",
       "      <td>97</td>\n",
       "      <td>6</td>\n",
       "      <td>2010</td>\n",
       "      <td>98.19</td>\n",
       "      <td>97</td>\n",
       "    </tr>\n",
       "    <tr>\n",
       "      <th>630</th>\n",
       "      <td>Metro-North Railroad</td>\n",
       "      <td>Service Indicators</td>\n",
       "      <td>Percent of the time that escalators are operat...</td>\n",
       "      <td>M</td>\n",
       "      <td>Escalator Availability</td>\n",
       "      <td>%</td>\n",
       "      <td>100</td>\n",
       "      <td>97</td>\n",
       "      <td>7</td>\n",
       "      <td>2010</td>\n",
       "      <td>98.46</td>\n",
       "      <td>97</td>\n",
       "    </tr>\n",
       "    <tr>\n",
       "      <th>631</th>\n",
       "      <td>Metro-North Railroad</td>\n",
       "      <td>Service Indicators</td>\n",
       "      <td>Percent of the time that escalators are operat...</td>\n",
       "      <td>M</td>\n",
       "      <td>Escalator Availability</td>\n",
       "      <td>%</td>\n",
       "      <td>100</td>\n",
       "      <td>97</td>\n",
       "      <td>8</td>\n",
       "      <td>2010</td>\n",
       "      <td>98.69</td>\n",
       "      <td>97</td>\n",
       "    </tr>\n",
       "    <tr>\n",
       "      <th>632</th>\n",
       "      <td>Metro-North Railroad</td>\n",
       "      <td>Service Indicators</td>\n",
       "      <td>Percent of the time that escalators are operat...</td>\n",
       "      <td>M</td>\n",
       "      <td>Escalator Availability</td>\n",
       "      <td>%</td>\n",
       "      <td>95.2</td>\n",
       "      <td>97</td>\n",
       "      <td>9</td>\n",
       "      <td>2010</td>\n",
       "      <td>98.3</td>\n",
       "      <td>97</td>\n",
       "    </tr>\n",
       "    <tr>\n",
       "      <th>633</th>\n",
       "      <td>Metro-North Railroad</td>\n",
       "      <td>Service Indicators</td>\n",
       "      <td>Percent of the time that escalators are operat...</td>\n",
       "      <td>M</td>\n",
       "      <td>Escalator Availability</td>\n",
       "      <td>%</td>\n",
       "      <td>90.91</td>\n",
       "      <td>97</td>\n",
       "      <td>10</td>\n",
       "      <td>2010</td>\n",
       "      <td>97.55</td>\n",
       "      <td>97</td>\n",
       "    </tr>\n",
       "    <tr>\n",
       "      <th>634</th>\n",
       "      <td>Metro-North Railroad</td>\n",
       "      <td>Service Indicators</td>\n",
       "      <td>Percent of the time that escalators are operat...</td>\n",
       "      <td>M</td>\n",
       "      <td>Escalator Availability</td>\n",
       "      <td>%</td>\n",
       "      <td>96.67</td>\n",
       "      <td>97</td>\n",
       "      <td>11</td>\n",
       "      <td>2010</td>\n",
       "      <td>97.47</td>\n",
       "      <td>97</td>\n",
       "    </tr>\n",
       "    <tr>\n",
       "      <th>635</th>\n",
       "      <td>Metro-North Railroad</td>\n",
       "      <td>Service Indicators</td>\n",
       "      <td>Percent of the time that escalators are operat...</td>\n",
       "      <td>M</td>\n",
       "      <td>Escalator Availability</td>\n",
       "      <td>%</td>\n",
       "      <td>90.03</td>\n",
       "      <td>97</td>\n",
       "      <td>12</td>\n",
       "      <td>2010</td>\n",
       "      <td>96.84</td>\n",
       "      <td>97</td>\n",
       "    </tr>\n",
       "    <tr>\n",
       "      <th>636</th>\n",
       "      <td>Metro-North Railroad</td>\n",
       "      <td>Service Indicators</td>\n",
       "      <td>Percent of the time that escalators are operat...</td>\n",
       "      <td>M</td>\n",
       "      <td>Escalator Availability</td>\n",
       "      <td>%</td>\n",
       "      <td>100</td>\n",
       "      <td>97</td>\n",
       "      <td>1</td>\n",
       "      <td>2011</td>\n",
       "      <td>100</td>\n",
       "      <td>97</td>\n",
       "    </tr>\n",
       "    <tr>\n",
       "      <th>637</th>\n",
       "      <td>Metro-North Railroad</td>\n",
       "      <td>Service Indicators</td>\n",
       "      <td>Percent of the time that escalators are operat...</td>\n",
       "      <td>M</td>\n",
       "      <td>Escalator Availability</td>\n",
       "      <td>%</td>\n",
       "      <td>100</td>\n",
       "      <td>97</td>\n",
       "      <td>2</td>\n",
       "      <td>2011</td>\n",
       "      <td>100</td>\n",
       "      <td>97</td>\n",
       "    </tr>\n",
       "    <tr>\n",
       "      <th>638</th>\n",
       "      <td>Metro-North Railroad</td>\n",
       "      <td>Service Indicators</td>\n",
       "      <td>Percent of the time that escalators are operat...</td>\n",
       "      <td>M</td>\n",
       "      <td>Escalator Availability</td>\n",
       "      <td>%</td>\n",
       "      <td>97.07</td>\n",
       "      <td>97</td>\n",
       "      <td>3</td>\n",
       "      <td>2011</td>\n",
       "      <td>98.86</td>\n",
       "      <td>97</td>\n",
       "    </tr>\n",
       "    <tr>\n",
       "      <th>639</th>\n",
       "      <td>Metro-North Railroad</td>\n",
       "      <td>Service Indicators</td>\n",
       "      <td>Percent of the time that escalators are operat...</td>\n",
       "      <td>M</td>\n",
       "      <td>Escalator Availability</td>\n",
       "      <td>%</td>\n",
       "      <td>98.18</td>\n",
       "      <td>97</td>\n",
       "      <td>4</td>\n",
       "      <td>2011</td>\n",
       "      <td>98.76</td>\n",
       "      <td>97</td>\n",
       "    </tr>\n",
       "    <tr>\n",
       "      <th>640</th>\n",
       "      <td>Metro-North Railroad</td>\n",
       "      <td>Service Indicators</td>\n",
       "      <td>Percent of the time that escalators are operat...</td>\n",
       "      <td>M</td>\n",
       "      <td>Escalator Availability</td>\n",
       "      <td>%</td>\n",
       "      <td>79.18</td>\n",
       "      <td>97</td>\n",
       "      <td>5</td>\n",
       "      <td>2011</td>\n",
       "      <td>90.91</td>\n",
       "      <td>97</td>\n",
       "    </tr>\n",
       "    <tr>\n",
       "      <th>641</th>\n",
       "      <td>Metro-North Railroad</td>\n",
       "      <td>Service Indicators</td>\n",
       "      <td>Percent of the time that escalators are operat...</td>\n",
       "      <td>M</td>\n",
       "      <td>Escalator Availability</td>\n",
       "      <td>%</td>\n",
       "      <td></td>\n",
       "      <td>97</td>\n",
       "      <td>6</td>\n",
       "      <td>2011</td>\n",
       "      <td></td>\n",
       "      <td>97</td>\n",
       "    </tr>\n",
       "    <tr>\n",
       "      <th>642</th>\n",
       "      <td>Metro-North Railroad</td>\n",
       "      <td>Service Indicators</td>\n",
       "      <td>Percent of the time that escalators are operat...</td>\n",
       "      <td>M</td>\n",
       "      <td>Escalator Availability</td>\n",
       "      <td>%</td>\n",
       "      <td></td>\n",
       "      <td>97</td>\n",
       "      <td>7</td>\n",
       "      <td>2011</td>\n",
       "      <td></td>\n",
       "      <td>97</td>\n",
       "    </tr>\n",
       "    <tr>\n",
       "      <th>643</th>\n",
       "      <td>Metro-North Railroad</td>\n",
       "      <td>Service Indicators</td>\n",
       "      <td>Percent of the time that escalators are operat...</td>\n",
       "      <td>M</td>\n",
       "      <td>Escalator Availability</td>\n",
       "      <td>%</td>\n",
       "      <td></td>\n",
       "      <td>97</td>\n",
       "      <td>8</td>\n",
       "      <td>2011</td>\n",
       "      <td></td>\n",
       "      <td>97</td>\n",
       "    </tr>\n",
       "    <tr>\n",
       "      <th>644</th>\n",
       "      <td>Metro-North Railroad</td>\n",
       "      <td>Service Indicators</td>\n",
       "      <td>Percent of the time that escalators are operat...</td>\n",
       "      <td>M</td>\n",
       "      <td>Escalator Availability</td>\n",
       "      <td>%</td>\n",
       "      <td></td>\n",
       "      <td>97</td>\n",
       "      <td>9</td>\n",
       "      <td>2011</td>\n",
       "      <td></td>\n",
       "      <td>97</td>\n",
       "    </tr>\n",
       "    <tr>\n",
       "      <th>645</th>\n",
       "      <td>Metro-North Railroad</td>\n",
       "      <td>Service Indicators</td>\n",
       "      <td>Percent of the time that escalators are operat...</td>\n",
       "      <td>M</td>\n",
       "      <td>Escalator Availability</td>\n",
       "      <td>%</td>\n",
       "      <td></td>\n",
       "      <td>97</td>\n",
       "      <td>10</td>\n",
       "      <td>2011</td>\n",
       "      <td></td>\n",
       "      <td>97</td>\n",
       "    </tr>\n",
       "    <tr>\n",
       "      <th>646</th>\n",
       "      <td>Metro-North Railroad</td>\n",
       "      <td>Service Indicators</td>\n",
       "      <td>Percent of the time that escalators are operat...</td>\n",
       "      <td>M</td>\n",
       "      <td>Escalator Availability</td>\n",
       "      <td>%</td>\n",
       "      <td></td>\n",
       "      <td>97</td>\n",
       "      <td>11</td>\n",
       "      <td>2011</td>\n",
       "      <td></td>\n",
       "      <td>97</td>\n",
       "    </tr>\n",
       "    <tr>\n",
       "      <th>647</th>\n",
       "      <td>Metro-North Railroad</td>\n",
       "      <td>Service Indicators</td>\n",
       "      <td>Percent of the time that escalators are operat...</td>\n",
       "      <td>M</td>\n",
       "      <td>Escalator Availability</td>\n",
       "      <td>%</td>\n",
       "      <td></td>\n",
       "      <td>97</td>\n",
       "      <td>12</td>\n",
       "      <td>2011</td>\n",
       "      <td></td>\n",
       "      <td>97</td>\n",
       "    </tr>\n",
       "  </tbody>\n",
       "</table>\n",
       "<p>648 rows × 12 columns</p>\n",
       "</div>"
      ],
      "text/plain": [
       "              AGENCY_NAME            CATEGORY  \\\n",
       "0    Metro-North Railroad  Service Indicators   \n",
       "1    Metro-North Railroad  Service Indicators   \n",
       "2    Metro-North Railroad  Service Indicators   \n",
       "3    Metro-North Railroad  Service Indicators   \n",
       "4    Metro-North Railroad  Service Indicators   \n",
       "5    Metro-North Railroad  Service Indicators   \n",
       "6    Metro-North Railroad  Service Indicators   \n",
       "7    Metro-North Railroad  Service Indicators   \n",
       "8    Metro-North Railroad  Service Indicators   \n",
       "9    Metro-North Railroad  Service Indicators   \n",
       "10   Metro-North Railroad  Service Indicators   \n",
       "11   Metro-North Railroad  Service Indicators   \n",
       "12   Metro-North Railroad  Service Indicators   \n",
       "13   Metro-North Railroad  Service Indicators   \n",
       "14   Metro-North Railroad  Service Indicators   \n",
       "15   Metro-North Railroad  Service Indicators   \n",
       "16   Metro-North Railroad  Service Indicators   \n",
       "17   Metro-North Railroad  Service Indicators   \n",
       "18   Metro-North Railroad  Service Indicators   \n",
       "19   Metro-North Railroad  Service Indicators   \n",
       "20   Metro-North Railroad  Service Indicators   \n",
       "21   Metro-North Railroad  Service Indicators   \n",
       "22   Metro-North Railroad  Service Indicators   \n",
       "23   Metro-North Railroad  Service Indicators   \n",
       "24   Metro-North Railroad  Service Indicators   \n",
       "25   Metro-North Railroad  Service Indicators   \n",
       "26   Metro-North Railroad  Service Indicators   \n",
       "27   Metro-North Railroad  Service Indicators   \n",
       "28   Metro-North Railroad  Service Indicators   \n",
       "29   Metro-North Railroad  Service Indicators   \n",
       "..                    ...                 ...   \n",
       "618  Metro-North Railroad  Service Indicators   \n",
       "619  Metro-North Railroad  Service Indicators   \n",
       "620  Metro-North Railroad  Service Indicators   \n",
       "621  Metro-North Railroad  Service Indicators   \n",
       "622  Metro-North Railroad  Service Indicators   \n",
       "623  Metro-North Railroad  Service Indicators   \n",
       "624  Metro-North Railroad  Service Indicators   \n",
       "625  Metro-North Railroad  Service Indicators   \n",
       "626  Metro-North Railroad  Service Indicators   \n",
       "627  Metro-North Railroad  Service Indicators   \n",
       "628  Metro-North Railroad  Service Indicators   \n",
       "629  Metro-North Railroad  Service Indicators   \n",
       "630  Metro-North Railroad  Service Indicators   \n",
       "631  Metro-North Railroad  Service Indicators   \n",
       "632  Metro-North Railroad  Service Indicators   \n",
       "633  Metro-North Railroad  Service Indicators   \n",
       "634  Metro-North Railroad  Service Indicators   \n",
       "635  Metro-North Railroad  Service Indicators   \n",
       "636  Metro-North Railroad  Service Indicators   \n",
       "637  Metro-North Railroad  Service Indicators   \n",
       "638  Metro-North Railroad  Service Indicators   \n",
       "639  Metro-North Railroad  Service Indicators   \n",
       "640  Metro-North Railroad  Service Indicators   \n",
       "641  Metro-North Railroad  Service Indicators   \n",
       "642  Metro-North Railroad  Service Indicators   \n",
       "643  Metro-North Railroad  Service Indicators   \n",
       "644  Metro-North Railroad  Service Indicators   \n",
       "645  Metro-North Railroad  Service Indicators   \n",
       "646  Metro-North Railroad  Service Indicators   \n",
       "647  Metro-North Railroad  Service Indicators   \n",
       "\n",
       "                                           DESCRIPTION FREQUENCY  \\\n",
       "0    Percent of commuter trains that arrive at thei...         M   \n",
       "1    Percent of commuter trains that arrive at thei...         M   \n",
       "2    Percent of commuter trains that arrive at thei...         M   \n",
       "3    Percent of commuter trains that arrive at thei...         M   \n",
       "4    Percent of commuter trains that arrive at thei...         M   \n",
       "5    Percent of commuter trains that arrive at thei...         M   \n",
       "6    Percent of commuter trains that arrive at thei...         M   \n",
       "7    Percent of commuter trains that arrive at thei...         M   \n",
       "8    Percent of commuter trains that arrive at thei...         M   \n",
       "9    Percent of commuter trains that arrive at thei...         M   \n",
       "10   Percent of commuter trains that arrive at thei...         M   \n",
       "11   Percent of commuter trains that arrive at thei...         M   \n",
       "12   Percent of commuter trains that arrive at thei...         M   \n",
       "13   Percent of commuter trains that arrive at thei...         M   \n",
       "14   Percent of commuter trains that arrive at thei...         M   \n",
       "15   Percent of commuter trains that arrive at thei...         M   \n",
       "16   Percent of commuter trains that arrive at thei...         M   \n",
       "17   Percent of commuter trains that arrive at thei...         M   \n",
       "18   Percent of commuter trains that arrive at thei...         M   \n",
       "19   Percent of commuter trains that arrive at thei...         M   \n",
       "20   Percent of commuter trains that arrive at thei...         M   \n",
       "21   Percent of commuter trains that arrive at thei...         M   \n",
       "22   Percent of commuter trains that arrive at thei...         M   \n",
       "23   Percent of commuter trains that arrive at thei...         M   \n",
       "24   Percent of commuter trains that arrive at thei...         M   \n",
       "25   Percent of commuter trains that arrive at thei...         M   \n",
       "26   Percent of commuter trains that arrive at thei...         M   \n",
       "27   Percent of commuter trains that arrive at thei...         M   \n",
       "28   Percent of commuter trains that arrive at thei...         M   \n",
       "29   Percent of commuter trains that arrive at thei...         M   \n",
       "..                                                 ...       ...   \n",
       "618  Percent of the time that escalators are operat...         M   \n",
       "619  Percent of the time that escalators are operat...         M   \n",
       "620  Percent of the time that escalators are operat...         M   \n",
       "621  Percent of the time that escalators are operat...         M   \n",
       "622  Percent of the time that escalators are operat...         M   \n",
       "623  Percent of the time that escalators are operat...         M   \n",
       "624  Percent of the time that escalators are operat...         M   \n",
       "625  Percent of the time that escalators are operat...         M   \n",
       "626  Percent of the time that escalators are operat...         M   \n",
       "627  Percent of the time that escalators are operat...         M   \n",
       "628  Percent of the time that escalators are operat...         M   \n",
       "629  Percent of the time that escalators are operat...         M   \n",
       "630  Percent of the time that escalators are operat...         M   \n",
       "631  Percent of the time that escalators are operat...         M   \n",
       "632  Percent of the time that escalators are operat...         M   \n",
       "633  Percent of the time that escalators are operat...         M   \n",
       "634  Percent of the time that escalators are operat...         M   \n",
       "635  Percent of the time that escalators are operat...         M   \n",
       "636  Percent of the time that escalators are operat...         M   \n",
       "637  Percent of the time that escalators are operat...         M   \n",
       "638  Percent of the time that escalators are operat...         M   \n",
       "639  Percent of the time that escalators are operat...         M   \n",
       "640  Percent of the time that escalators are operat...         M   \n",
       "641  Percent of the time that escalators are operat...         M   \n",
       "642  Percent of the time that escalators are operat...         M   \n",
       "643  Percent of the time that escalators are operat...         M   \n",
       "644  Percent of the time that escalators are operat...         M   \n",
       "645  Percent of the time that escalators are operat...         M   \n",
       "646  Percent of the time that escalators are operat...         M   \n",
       "647  Percent of the time that escalators are operat...         M   \n",
       "\n",
       "                           INDICATOR_NAME INDICATOR_UNIT MONTHLY_ACTUAL  \\\n",
       "0    On-Time Performance (West of Hudson)              %           96.9   \n",
       "1    On-Time Performance (West of Hudson)              %             95   \n",
       "2    On-Time Performance (West of Hudson)              %           96.9   \n",
       "3    On-Time Performance (West of Hudson)              %           98.3   \n",
       "4    On-Time Performance (West of Hudson)              %           95.8   \n",
       "5    On-Time Performance (West of Hudson)              %           94.4   \n",
       "6    On-Time Performance (West of Hudson)              %             96   \n",
       "7    On-Time Performance (West of Hudson)              %           96.4   \n",
       "8    On-Time Performance (West of Hudson)              %           93.7   \n",
       "9    On-Time Performance (West of Hudson)              %           96.4   \n",
       "10   On-Time Performance (West of Hudson)              %           96.9   \n",
       "11   On-Time Performance (West of Hudson)              %           95.1   \n",
       "12   On-Time Performance (West of Hudson)              %           92.6   \n",
       "13   On-Time Performance (West of Hudson)              %           96.8   \n",
       "14   On-Time Performance (West of Hudson)              %           96.9   \n",
       "15   On-Time Performance (West of Hudson)              %           97.1   \n",
       "16   On-Time Performance (West of Hudson)              %           97.8   \n",
       "17   On-Time Performance (West of Hudson)              %           97.3   \n",
       "18   On-Time Performance (West of Hudson)              %           96.7   \n",
       "19   On-Time Performance (West of Hudson)              %           95.7   \n",
       "20   On-Time Performance (West of Hudson)              %           96.1   \n",
       "21   On-Time Performance (West of Hudson)              %           94.8   \n",
       "22   On-Time Performance (West of Hudson)              %           95.7   \n",
       "23   On-Time Performance (West of Hudson)              %             95   \n",
       "24   On-Time Performance (West of Hudson)              %             98   \n",
       "25   On-Time Performance (West of Hudson)              %             93   \n",
       "26   On-Time Performance (West of Hudson)              %           96.9   \n",
       "27   On-Time Performance (West of Hudson)              %           98.1   \n",
       "28   On-Time Performance (West of Hudson)              %           97.6   \n",
       "29   On-Time Performance (West of Hudson)              %           97.4   \n",
       "..                                    ...            ...            ...   \n",
       "618                Escalator Availability              %             94   \n",
       "619                Escalator Availability              %             97   \n",
       "620                Escalator Availability              %           98.3   \n",
       "621                Escalator Availability              %           98.7   \n",
       "622                Escalator Availability              %           98.1   \n",
       "623                Escalator Availability              %            100   \n",
       "624                Escalator Availability              %          97.95   \n",
       "625                Escalator Availability              %            100   \n",
       "626                Escalator Availability              %            100   \n",
       "627                Escalator Availability              %            100   \n",
       "628                Escalator Availability              %            100   \n",
       "629                Escalator Availability              %          91.21   \n",
       "630                Escalator Availability              %            100   \n",
       "631                Escalator Availability              %            100   \n",
       "632                Escalator Availability              %           95.2   \n",
       "633                Escalator Availability              %          90.91   \n",
       "634                Escalator Availability              %          96.67   \n",
       "635                Escalator Availability              %          90.03   \n",
       "636                Escalator Availability              %            100   \n",
       "637                Escalator Availability              %            100   \n",
       "638                Escalator Availability              %          97.07   \n",
       "639                Escalator Availability              %          98.18   \n",
       "640                Escalator Availability              %          79.18   \n",
       "641                Escalator Availability              %                  \n",
       "642                Escalator Availability              %                  \n",
       "643                Escalator Availability              %                  \n",
       "644                Escalator Availability              %                  \n",
       "645                Escalator Availability              %                  \n",
       "646                Escalator Availability              %                  \n",
       "647                Escalator Availability              %                  \n",
       "\n",
       "    MONTHLY_TARGET  PERIOD_MONTH  PERIOD_YEAR YTD_ACTUAL YTD_TARGET  \n",
       "0               95             1         2008       96.9         95  \n",
       "1               95             2         2008         96         95  \n",
       "2               95             3         2008       96.3         95  \n",
       "3               95             4         2008       96.8         95  \n",
       "4               95             5         2008       96.6         95  \n",
       "5               95             6         2008       96.2         95  \n",
       "6               95             7         2008       96.2         95  \n",
       "7               95             8         2008       96.2         95  \n",
       "8               95             9         2008       95.9         95  \n",
       "9               95            10         2008         96         95  \n",
       "10              95            11         2008       96.1         95  \n",
       "11              95            12         2008         96         95  \n",
       "12            96.2             1         2009       92.6       96.2  \n",
       "13            96.2             2         2009       94.6       96.2  \n",
       "14            96.2             3         2009       95.4       96.2  \n",
       "15            96.2             4         2009       95.9       96.2  \n",
       "16            96.2             5         2009       96.2       96.2  \n",
       "17            96.2             6         2009       96.4       96.2  \n",
       "18            96.2             7         2009       96.5       96.2  \n",
       "19            96.2             8         2009       96.4       96.2  \n",
       "20            96.2             9         2009       96.3       96.2  \n",
       "21            96.2            10         2009       96.2       96.2  \n",
       "22            96.2            11         2009       96.1       96.2  \n",
       "23            96.2            12         2009         96       96.2  \n",
       "24            96.3             1         2010         98       96.3  \n",
       "25            96.3             2         2010       95.6       96.3  \n",
       "26            96.3             3         2010       96.1       96.3  \n",
       "27            96.3             4         2010       96.6       96.3  \n",
       "28            96.3             5         2010       96.8       96.3  \n",
       "29            96.3             6         2010       96.9       96.3  \n",
       "..             ...           ...          ...        ...        ...  \n",
       "618                            7         2009      95.14             \n",
       "619                            8         2009      95.38             \n",
       "620                            9         2009       95.7             \n",
       "621                           10         2009         96             \n",
       "622                           11         2009      96.21             \n",
       "623                           12         2009       96.5             \n",
       "624             97             1         2010      97.95         97  \n",
       "625             97             2         2010      98.92         97  \n",
       "626             97             3         2010      99.29         97  \n",
       "627             97             4         2010      99.47         97  \n",
       "628             97             5         2010      99.58         97  \n",
       "629             97             6         2010      98.19         97  \n",
       "630             97             7         2010      98.46         97  \n",
       "631             97             8         2010      98.69         97  \n",
       "632             97             9         2010       98.3         97  \n",
       "633             97            10         2010      97.55         97  \n",
       "634             97            11         2010      97.47         97  \n",
       "635             97            12         2010      96.84         97  \n",
       "636             97             1         2011        100         97  \n",
       "637             97             2         2011        100         97  \n",
       "638             97             3         2011      98.86         97  \n",
       "639             97             4         2011      98.76         97  \n",
       "640             97             5         2011      90.91         97  \n",
       "641             97             6         2011                    97  \n",
       "642             97             7         2011                    97  \n",
       "643             97             8         2011                    97  \n",
       "644             97             9         2011                    97  \n",
       "645             97            10         2011                    97  \n",
       "646             97            11         2011                    97  \n",
       "647             97            12         2011                    97  \n",
       "\n",
       "[648 rows x 12 columns]"
      ]
     },
     "execution_count": 141,
     "metadata": {},
     "output_type": "execute_result"
    }
   ],
   "source": [
    "perf"
   ]
  },
  {
   "cell_type": "markdown",
   "metadata": {},
   "source": [
    "XML data can get much more complicated than this example. Each tag can have metadata,\n",
    "too. Consider an HTML link tag which is also valid XML:"
   ]
  },
  {
   "cell_type": "code",
   "execution_count": 144,
   "metadata": {
    "collapsed": false
   },
   "outputs": [],
   "source": [
    "#from StringIO import StringIO\n",
    "# The StringIO and cStringIO modules are gone. \n",
    "#Instead, import the io module and use io.StringIO or io.BytesIO \n",
    "#for text and data respectively.\n",
    "\n",
    "from io import StringIO\n",
    "tag = '<a href=\"http://www.google.com\">Google</a>'\n",
    "\n",
    "root = objectify.parse(StringIO(tag)).getroot()"
   ]
  },
  {
   "cell_type": "markdown",
   "metadata": {},
   "source": [
    "You can now access any of the fields (like href) in the tag or the link text:"
   ]
  },
  {
   "cell_type": "code",
   "execution_count": 145,
   "metadata": {
    "collapsed": false
   },
   "outputs": [
    {
     "data": {
      "text/plain": [
       "<Element a at 0x10f56e208>"
      ]
     },
     "execution_count": 145,
     "metadata": {},
     "output_type": "execute_result"
    }
   ],
   "source": [
    "root"
   ]
  },
  {
   "cell_type": "code",
   "execution_count": 146,
   "metadata": {
    "collapsed": false
   },
   "outputs": [
    {
     "data": {
      "text/plain": [
       "'http://www.google.com'"
      ]
     },
     "execution_count": 146,
     "metadata": {},
     "output_type": "execute_result"
    }
   ],
   "source": [
    "root.get('href')"
   ]
  },
  {
   "cell_type": "code",
   "execution_count": 147,
   "metadata": {
    "collapsed": false
   },
   "outputs": [
    {
     "data": {
      "text/plain": [
       "'Google'"
      ]
     },
     "execution_count": 147,
     "metadata": {},
     "output_type": "execute_result"
    }
   ],
   "source": [
    "root.text"
   ]
  },
  {
   "cell_type": "code",
   "execution_count": null,
   "metadata": {
    "collapsed": true
   },
   "outputs": [],
   "source": []
  }
 ],
 "metadata": {
  "kernelspec": {
   "display_name": "Python 3",
   "language": "python",
   "name": "python3"
  },
  "language_info": {
   "codemirror_mode": {
    "name": "ipython",
    "version": 3
   },
   "file_extension": ".py",
   "mimetype": "text/x-python",
   "name": "python",
   "nbconvert_exporter": "python",
   "pygments_lexer": "ipython3",
   "version": "3.5.3"
  }
 },
 "nbformat": 4,
 "nbformat_minor": 2
}
