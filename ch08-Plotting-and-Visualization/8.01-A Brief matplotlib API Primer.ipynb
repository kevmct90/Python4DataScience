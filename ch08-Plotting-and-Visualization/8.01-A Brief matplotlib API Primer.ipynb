{
 "cells": [
  {
   "cell_type": "markdown",
   "metadata": {
    "collapsed": true
   },
   "source": [
    "# Plotting and Visualization\n",
    "\n",
    "Making plots and static or interactive visualizations is one of the most important tasks\n",
    "in data analysis. It may be a part of the exploratory process; for example, helping identify\n",
    "outliers, needed data transformations, or coming up with ideas for models. For\n",
    "others, building an interactive visualization for the web using a toolkit like d3.js (http:\n",
    "//d3js.org/) may be the end goal. Python has many visualization tools (see the end of\n",
    "this chapter), but I’ll be mainly focused on matplotlib (http://matplotlib.sourceforge\n",
    ".net).\n",
    "\n",
    "matplotlib is a (primarily 2D) desktop plotting package designed for creating publication-\n",
    "quality plots. The project was started by John Hunter in 2002 to enable a MATLAB-\n",
    "like plotting interface in Python. He, Fernando Pérez (of IPython), and others have\n",
    "collaborated for many years since then to make IPython combined with matplotlib a\n",
    "very functional and productive environment for scientific computing. When used in\n",
    "tandem with a GUI toolkit (for example, within IPython), matplotlib has interactive\n",
    "features like zooming and panning. It supports many different GUI backends on all\n",
    "operating systems and additionally can export graphics to all of the common vector\n",
    "and raster graphics formats: PDF, SVG, JPG, PNG, BMP, GIF, etc. I have used it to\n",
    "produce almost all of the graphics outside of diagrams in this book.\n",
    "\n",
    "matplotlib has a number of add-on toolkits, such as mplot3d for 3D plots and basemap\n",
    "for mapping and projections. I will give an example using basemap to plot data on a map\n",
    "and to read shapefiles at the end of the chapter.\n",
    "\n",
    "To follow along with the code examples in the chapter, make sure you have started\n",
    "IPython in Pylab mode (ipython --pylab) or enabled GUI event loop integration with\n",
    "the %gui magic."
   ]
  },
  {
   "cell_type": "code",
   "execution_count": 1,
   "metadata": {
    "collapsed": true
   },
   "outputs": [],
   "source": [
    "%matplotlib inline"
   ]
  },
  {
   "cell_type": "code",
   "execution_count": 2,
   "metadata": {
    "collapsed": true
   },
   "outputs": [],
   "source": [
    "from pandas import DataFrame, Series\n",
    "\n",
    "import pandas as pd\n",
    "import sys\n",
    "\n",
    "import numpy as np\n",
    "\n",
    "import matplotlib.pyplot as plt"
   ]
  },
  {
   "cell_type": "code",
   "execution_count": null,
   "metadata": {
    "collapsed": true
   },
   "outputs": [],
   "source": []
  },
  {
   "cell_type": "markdown",
   "metadata": {},
   "source": [
    "## A Brief matplotlib API Primer\n",
    "\n",
    "There are several ways to interact with matplotlib. The most common is through pylab\n",
    "mode in IPython by running ipython --pylab. This launches IPython configured to be\n",
    "able to support the matplotlib GUI backend of your choice (Tk, wxPython, PyQt, Mac OS X native, GTK). For most users, the default backend will be sufficient. Pylab mode\n",
    "also imports a large set of modules and functions into IPython to provide a more MATLAB-\n",
    "like interface. You can test that everything is working by making a simple plot:\n",
    "\n",
    "plot(np.arange(10))\n",
    "\n",
    "If everything is set up right, a new window should pop up with a line plot. You can\n",
    "close it by using the mouse or entering close(). Matplotlib API functions like plot and\n",
    "close are all in the matplotlib.pyplot module, which is typically imported by convention\n",
    "as:\n",
    "\n",
    "import matplotlib.pyplot as plt\n",
    "\n",
    "While the pandas plotting functions described later deal with many of the mundane\n",
    "details of making plots, should you wish to customize them beyond the"
   ]
  },
  {
   "cell_type": "code",
   "execution_count": null,
   "metadata": {
    "collapsed": true
   },
   "outputs": [],
   "source": []
  },
  {
   "cell_type": "markdown",
   "metadata": {},
   "source": [
    "NOTE: There is not enough room in the book to give a comprehensive treatment\n",
    "to the breadth and depth of functionality in matplotlib. It should be\n",
    "enough to teach you the ropes to get up and running. The matplotlib\n",
    "gallery and documentation are the best resource for becoming a plotting\n",
    "guru and using advanced features."
   ]
  },
  {
   "cell_type": "code",
   "execution_count": null,
   "metadata": {
    "collapsed": true
   },
   "outputs": [],
   "source": [
    "\n"
   ]
  },
  {
   "cell_type": "markdown",
   "metadata": {},
   "source": [
    "### Figures and Subplots\n",
    "\n",
    "Plots in matplotlib reside within a Figure object. You can create a new figure with\n",
    "plt.figure:"
   ]
  },
  {
   "cell_type": "code",
   "execution_count": 3,
   "metadata": {},
   "outputs": [
    {
     "data": {
      "text/plain": [
       "<matplotlib.figure.Figure at 0x118fe6ac8>"
      ]
     },
     "metadata": {},
     "output_type": "display_data"
    }
   ],
   "source": [
    "fig = plt.figure()"
   ]
  },
  {
   "cell_type": "code",
   "execution_count": 4,
   "metadata": {},
   "outputs": [
    {
     "data": {
      "text/plain": [
       "<matplotlib.figure.Figure at 0x118fe6ac8>"
      ]
     },
     "execution_count": 4,
     "metadata": {},
     "output_type": "execute_result"
    }
   ],
   "source": [
    "fig"
   ]
  },
  {
   "cell_type": "markdown",
   "metadata": {},
   "source": [
    "If you are in pylab mode in IPython, a new empty window should pop up. plt.fig\n",
    "ure has a number of options, notably figsize will guarantee the figure has a certain size\n",
    "and aspect ratio if saved to disk. Figures in matplotlib also support a numbering scheme\n",
    "(for example, plt.figure(2)) that mimics MATLAB. You can get a reference to the\n",
    "active figure using plt.gcf().\n",
    "You can’t make a plot with a blank figure. You have to create one or more subplots\n",
    "using add_subplot:"
   ]
  },
  {
   "cell_type": "code",
   "execution_count": 5,
   "metadata": {
    "collapsed": true
   },
   "outputs": [],
   "source": [
    "ax1 = fig.add_subplot(2, 2, 1)"
   ]
  },
  {
   "cell_type": "code",
   "execution_count": 6,
   "metadata": {},
   "outputs": [
    {
     "data": {
      "text/plain": [
       "<matplotlib.axes._subplots.AxesSubplot at 0x1191ddcc0>"
      ]
     },
     "execution_count": 6,
     "metadata": {},
     "output_type": "execute_result"
    }
   ],
   "source": [
    "ax1"
   ]
  },
  {
   "cell_type": "markdown",
   "metadata": {},
   "source": [
    "This means that the figure should be 2 × 2, and we’re selecting the first of 4 subplots\n",
    "(numbered from 1). If you create the next two subplots, you’ll end up with a figure that\n",
    "looks like Figure 8-2."
   ]
  },
  {
   "cell_type": "code",
   "execution_count": 7,
   "metadata": {
    "collapsed": true
   },
   "outputs": [],
   "source": [
    "ax2 = fig.add_subplot(2, 2, 2)"
   ]
  },
  {
   "cell_type": "code",
   "execution_count": 8,
   "metadata": {
    "collapsed": true
   },
   "outputs": [],
   "source": [
    "ax3 = fig.add_subplot(2, 2, 3).plot"
   ]
  },
  {
   "cell_type": "code",
   "execution_count": 9,
   "metadata": {},
   "outputs": [
    {
     "data": {
      "text/plain": [
       "<matplotlib.axes._subplots.AxesSubplot at 0x1191ddcc0>"
      ]
     },
     "execution_count": 9,
     "metadata": {},
     "output_type": "execute_result"
    }
   ],
   "source": [
    "\n",
    "ax1"
   ]
  },
  {
   "cell_type": "markdown",
   "metadata": {},
   "source": [
    "### "
   ]
  },
  {
   "cell_type": "code",
   "execution_count": 10,
   "metadata": {},
   "outputs": [
    {
     "data": {
      "text/plain": [
       "<bound method Axes.plot of <matplotlib.axes._subplots.AxesSubplot object at 0x11c54cf28>>"
      ]
     },
     "execution_count": 10,
     "metadata": {},
     "output_type": "execute_result"
    }
   ],
   "source": [
    "ax3"
   ]
  },
  {
   "cell_type": "code",
   "execution_count": null,
   "metadata": {
    "collapsed": true
   },
   "outputs": [],
   "source": []
  },
  {
   "cell_type": "code",
   "execution_count": null,
   "metadata": {
    "collapsed": true
   },
   "outputs": [],
   "source": []
  },
  {
   "cell_type": "markdown",
   "metadata": {},
   "source": [
    "When you issue a plotting command like plt.plot([1.5, 3.5, -2, 1.6]), matplotlib\n",
    "draws on the last figure and subplot used (creating one if necessary), thus hiding the\n",
    "figure and subplot creation. Thus, if we run the following command, you’ll get something\n",
    "like Figure 8-3:"
   ]
  },
  {
   "cell_type": "code",
   "execution_count": 11,
   "metadata": {
    "collapsed": true
   },
   "outputs": [],
   "source": [
    "from numpy.random import randn"
   ]
  },
  {
   "cell_type": "code",
   "execution_count": 12,
   "metadata": {},
   "outputs": [
    {
     "data": {
      "text/plain": [
       "[<matplotlib.lines.Line2D at 0x11c5e7748>]"
      ]
     },
     "execution_count": 12,
     "metadata": {},
     "output_type": "execute_result"
    },
    {
     "data": {
      "image/png": "[encoded data removed]",
      "text/plain": [
       "<matplotlib.figure.Figure at 0x11c5d4ba8>"
      ]
     },
     "metadata": {},
     "output_type": "display_data"
    }
   ],
   "source": [
    "plt.plot(randn(50).cumsum(), 'k--')"
   ]
  },
  {
   "cell_type": "markdown",
   "metadata": {},
   "source": [
    "The 'k--' is a style option instructing matplotlib to plot a black dashed line. The objects\n",
    "returned by fig.add_subplot above are AxesSubplot objects, on which you can directly\n",
    "plot on the other empty subplots by calling each one’s instance methods, see Figure 8-4:"
   ]
  },
  {
   "cell_type": "code",
   "execution_count": 13,
   "metadata": {
    "collapsed": true
   },
   "outputs": [],
   "source": [
    "_ = ax1.hist(randn(100), bins=20, color='k', alpha=0.3)"
   ]
  },
  {
   "cell_type": "code",
   "execution_count": 14,
   "metadata": {},
   "outputs": [
    {
     "data": {
      "text/plain": [
       "<matplotlib.collections.PathCollection at 0x11c6d2128>"
      ]
     },
     "execution_count": 14,
     "metadata": {},
     "output_type": "execute_result"
    }
   ],
   "source": [
    "ax2.scatter(np.arange(30), np.arange(30) + 3 * randn(30))"
   ]
  },
  {
   "cell_type": "markdown",
   "metadata": {},
   "source": [
    "You can find a comprehensive catalogue of plot types in the matplotlib documentation.\n",
    "Since creating a figure with multiple subplots according to a particular layout is such\n",
    "a common task, there is a convenience method, plt.subplots, that creates a new figure\n",
    "and returns a NumPy array containing the created subplot objects:"
   ]
  },
  {
   "cell_type": "code",
   "execution_count": 15,
   "metadata": {},
   "outputs": [
    {
     "data": {
      "image/png": "[encoded data removed]",
      "text/plain": [
       "<matplotlib.figure.Figure at 0x11c6d2a90>"
      ]
     },
     "metadata": {},
     "output_type": "display_data"
    }
   ],
   "source": [
    "fig, axes = plt.subplots(2, 3)"
   ]
  },
  {
   "cell_type": "code",
   "execution_count": 16,
   "metadata": {},
   "outputs": [
    {
     "data": {
      "text/plain": [
       "array([[<matplotlib.axes._subplots.AxesSubplot object at 0x11c6408d0>,\n",
       "        <matplotlib.axes._subplots.AxesSubplot object at 0x11c7a9eb8>,\n",
       "        <matplotlib.axes._subplots.AxesSubplot object at 0x11c7f29b0>],\n",
       "       [<matplotlib.axes._subplots.AxesSubplot object at 0x11c8458d0>,\n",
       "        <matplotlib.axes._subplots.AxesSubplot object at 0x11c88c630>,\n",
       "        <matplotlib.axes._subplots.AxesSubplot object at 0x11c8de668>]], dtype=object)"
      ]
     },
     "execution_count": 16,
     "metadata": {},
     "output_type": "execute_result"
    }
   ],
   "source": [
    "axes"
   ]
  },
  {
   "cell_type": "markdown",
   "metadata": {},
   "source": [
    "\n"
   ]
  },
  {
   "cell_type": "code",
   "execution_count": null,
   "metadata": {
    "collapsed": true
   },
   "outputs": [],
   "source": []
  },
  {
   "cell_type": "markdown",
   "metadata": {},
   "source": [
    "This is very useful as the axes array can be easily indexed like a two-dimensional array;\n",
    "for example, axes[0, 1]. You can also indicate that subplots should have the same X\n",
    "or Y axis using sharex and sharey, respectively. This is especially useful when comparing\n",
    "data on the same scale; otherwise, matplotlib auto-scales plot limits independently. See\n",
    "Table 8-1 for more on this method."
   ]
  },
  {
   "cell_type": "markdown",
   "metadata": {},
   "source": [
    "Table 8-1. pyplot.subplots options\n",
    "\n",
    "Argument Description\n",
    "\n",
    "nrows Number of rows of subplots\n",
    "\n",
    "ncols Number of columns of subplots\n",
    "\n",
    "sharex All subplots should use the same X-axis ticks (adjusting the xlim will affect all subplots)\n",
    "\n",
    "sharey All subplots should use the same Y-axis ticks (adjusting the ylim will affect all subplots)\n",
    "\n",
    "subplot_kw Dict of keywords for creating the\n",
    "\n",
    "**fig_kw Additional keywords to subplots are used when creating the figure, such as plt.subplots(2, 2,"
   ]
  },
  {
   "cell_type": "code",
   "execution_count": null,
   "metadata": {
    "collapsed": true
   },
   "outputs": [],
   "source": []
  },
  {
   "cell_type": "markdown",
   "metadata": {},
   "source": [
    "Adjusting the spacing around subplots\n",
    "\n",
    "By default matplotlib leaves a certain amount of padding around the outside of the\n",
    "subplots and spacing between subplots. This spacing is all specified relative to the\n",
    "height and width of the plot, so that if you resize the plot either programmatically or\n",
    "manually using the GUI window, the plot will dynamically adjust itself. The spacing\n",
    "can be most easily changed using the subplots_adjust Figure method, also available as\n",
    "a top-level function:\n",
    "\n",
    "subplots_adjust(left=None, bottom=None, right=None, top=None,\n",
    "wspace=None, hspace=None)\n",
    "\n",
    "wspace and hspace controls the percent of the figure width and figure height, respectively,\n",
    "to use as spacing between subplots. Here is a small example where I shrink the\n",
    "spacing all the way to zero (see Figure 8-5):"
   ]
  },
  {
   "cell_type": "code",
   "execution_count": 17,
   "metadata": {},
   "outputs": [
    {
     "data": {
      "image/png": "[encoded data removed]",
      "text/plain": [
       "<matplotlib.figure.Figure at 0x11ca23048>"
      ]
     },
     "metadata": {},
     "output_type": "display_data"
    }
   ],
   "source": [
    "fig, axes = plt.subplots(2, 2, sharex=True, sharey=True)\n",
    "for i in range(2):\n",
    "    for j in range(2):\n",
    "        axes[i, j].hist(randn(500), bins=50, color='k', alpha=0.5)\n",
    "plt.subplots_adjust(wspace=0, hspace=0)"
   ]
  },
  {
   "cell_type": "code",
   "execution_count": null,
   "metadata": {
    "collapsed": true
   },
   "outputs": [],
   "source": []
  },
  {
   "cell_type": "markdown",
   "metadata": {},
   "source": [
    "You may notice that the axis labels overlap. matplotlib doesn’t check whether the labels\n",
    "overlap, so in a case like this you would need to fix the labels yourself by specifying\n",
    "explicit tick locations and tick labels. More on this in the coming sections."
   ]
  },
  {
   "cell_type": "code",
   "execution_count": null,
   "metadata": {
    "collapsed": true
   },
   "outputs": [],
   "source": [
    "\n"
   ]
  },
  {
   "cell_type": "markdown",
   "metadata": {},
   "source": [
    "## Colors, Markers, and Line Styles"
   ]
  },
  {
   "cell_type": "markdown",
   "metadata": {},
   "source": [
    "Matplotlib’s main plot function accepts arrays of X and Y coordinates and optionally\n",
    "a string abbreviation indicating color and line style. For example, to plot x versus y with\n",
    "green dashes, you would execute:\n",
    "\n",
    "ax.plot(x, y, 'g--')\n",
    "\n",
    "This way of specifying both color and linestyle in a string is provided as a convenience;\n",
    "in practice if you were creating plots programmatically you might prefer not to have to\n",
    "munge strings together to create plots with the desired style. The same plot could also\n",
    "have been expressed more explicitly as:\n",
    "\n",
    "ax.plot(x, y, linestyle='--', color='g')\n",
    "\n",
    "There are a number of color abbreviations provided for commonly-used colors, but any\n",
    "color on the spectrum can be used by specifying its RGB value (for example, '#CECE\n",
    "CE'). You can see the full set of linestyles by looking at the docstring for plot.\n",
    "\n",
    "Line plots can additionally have markers to highlight the actual data points. Since matplotlib\n",
    "creates a continuous line plot, interpolating between points, it can occasionally\n",
    "be unclear where the points lie. The marker can be part of the style string, which must\n",
    "have color followed by marker type and line style (see Figure 8-6):"
   ]
  },
  {
   "cell_type": "code",
   "execution_count": 18,
   "metadata": {},
   "outputs": [
    {
     "data": {
      "text/plain": [
       "[<matplotlib.lines.Line2D at 0x11ce74e10>]"
      ]
     },
     "execution_count": 18,
     "metadata": {},
     "output_type": "execute_result"
    },
    {
     "data": {
      "image/png": "[encoded data removed]",
      "text/plain": [
       "<matplotlib.figure.Figure at 0x11ca18cf8>"
      ]
     },
     "metadata": {},
     "output_type": "display_data"
    }
   ],
   "source": [
    "plt.plot(randn(30).cumsum(), 'ko--')"
   ]
  },
  {
   "cell_type": "markdown",
   "metadata": {},
   "source": [
    "This could also have been written more explicitly as:"
   ]
  },
  {
   "cell_type": "code",
   "execution_count": 19,
   "metadata": {},
   "outputs": [
    {
     "data": {
      "text/plain": [
       "[<matplotlib.lines.Line2D at 0x11d02d780>]"
      ]
     },
     "execution_count": 19,
     "metadata": {},
     "output_type": "execute_result"
    },
    {
     "data": {
      "image/png": "[encoded data removed]",
      "text/plain": [
       "<matplotlib.figure.Figure at 0x11ca28f60>"
      ]
     },
     "metadata": {},
     "output_type": "display_data"
    }
   ],
   "source": [
    "plt.plot(randn(30).cumsum(), color='k', linestyle='dashed', marker='o')"
   ]
  },
  {
   "cell_type": "markdown",
   "metadata": {},
   "source": [
    "For line plots, you will notice that subsequent points are linearly interpolated by default.\n",
    "This can be altered with the drawstyle option:"
   ]
  },
  {
   "cell_type": "code",
   "execution_count": 20,
   "metadata": {
    "collapsed": true
   },
   "outputs": [],
   "source": [
    "data = randn(30).cumsum()"
   ]
  },
  {
   "cell_type": "code",
   "execution_count": 21,
   "metadata": {},
   "outputs": [
    {
     "data": {
      "text/plain": [
       "array([ 0.81607678,  0.13716139, -0.02954817,  1.9555552 ,  2.09630028,\n",
       "        1.19075179,  1.06084805,  0.65208027, -0.44281655,  0.85484218,\n",
       "       -1.96446601, -1.811658  , -1.35408526, -2.16451137, -2.57444689,\n",
       "       -2.37802439, -1.84517529, -3.32076408, -2.67751471, -2.86662684,\n",
       "       -2.60784891, -0.70847717,  1.21191149,  1.87648143,  2.33135174,\n",
       "        1.08517995,  0.2998341 , -0.26459111, -0.20842703,  0.02708557])"
      ]
     },
     "execution_count": 21,
     "metadata": {},
     "output_type": "execute_result"
    }
   ],
   "source": [
    "data"
   ]
  },
  {
   "cell_type": "code",
   "execution_count": 22,
   "metadata": {},
   "outputs": [
    {
     "data": {
      "text/plain": [
       "[<matplotlib.lines.Line2D at 0x11d0f1828>]"
      ]
     },
     "execution_count": 22,
     "metadata": {},
     "output_type": "execute_result"
    },
    {
     "data": {
      "image/png": "[encoded data removed]",
      "text/plain": [
       "<matplotlib.figure.Figure at 0x11d0029b0>"
      ]
     },
     "metadata": {},
     "output_type": "display_data"
    }
   ],
   "source": [
    "plt.plot(data, 'k--', label='Default')"
   ]
  },
  {
   "cell_type": "code",
   "execution_count": 23,
   "metadata": {},
   "outputs": [
    {
     "data": {
      "text/plain": [
       "[<matplotlib.lines.Line2D at 0x11d1f4b00>]"
      ]
     },
     "execution_count": 23,
     "metadata": {},
     "output_type": "execute_result"
    },
    {
     "data": {
      "image/png": "[encoded data removed]",
      "text/plain": [
       "<matplotlib.figure.Figure at 0x11d113b70>"
      ]
     },
     "metadata": {},
     "output_type": "display_data"
    }
   ],
   "source": [
    "plt.plot(data, 'k-', drawstyle='steps-post', label='steps-post')"
   ]
  },
  {
   "cell_type": "code",
   "execution_count": 24,
   "metadata": {},
   "outputs": [
    {
     "name": "stderr",
     "output_type": "stream",
     "text": [
      "/Users/Kevin/anaconda/lib/python3.5/site-packages/matplotlib/axes/_axes.py:519: UserWarning: No labelled objects found. Use label='...' kwarg on individual plots.\n",
      "  warnings.warn(\"No labelled objects found. \"\n"
     ]
    },
    {
     "data": {
      "image/png": "[encoded data removed]",
      "text/plain": [
       "<matplotlib.figure.Figure at 0x11d21c898>"
      ]
     },
     "metadata": {},
     "output_type": "display_data"
    }
   ],
   "source": [
    "plt.legend(loc='best')"
   ]
  },
  {
   "cell_type": "code",
   "execution_count": null,
   "metadata": {
    "collapsed": true
   },
   "outputs": [],
   "source": []
  },
  {
   "cell_type": "markdown",
   "metadata": {},
   "source": [
    "Ticks, Labels, and Legends\n",
    "\n",
    "For most kinds of plot decorations, there are two main ways to do things: using the\n",
    "procedural pyplot interface (which will be very familiar to MATLAB users) and the\n",
    "more object-oriented native matplotlib API.\n",
    "\n",
    "The pyplot interface, designed for interactive use, consists of methods like xlim,\n",
    "xticks, and xticklabels. These control the plot range, tick locations, and tick labels,\n",
    "respectively. They can be used in two ways:\n",
    "\n",
    "- Called with no arguments returns the current parameter value. For example\n",
    "plt.xlim() returns the current X axis plotting range\n",
    "\n",
    "- Called with parameters sets the parameter value. So plt.xlim([0, 10]), sets the X\n",
    "axis range to 0 to 10"
   ]
  },
  {
   "cell_type": "markdown",
   "metadata": {},
   "source": [
    "All such methods act on the active or most recently-created AxesSubplot. Each of them\n",
    "corresponds to two methods on the subplot object itself; in the case of xlim these are\n",
    "ax.get_xlim and ax.set_xlim. I prefer to use the subplot instance methods myself in\n",
    "the interest of being explicit (and especially when working with multiple subplots), but\n",
    "you can certainly use whichever you find more convenient."
   ]
  },
  {
   "cell_type": "markdown",
   "metadata": {},
   "source": [
    "Setting the title, axis labels, ticks, and ticklabels\n",
    "\n",
    "To illustrate customizing the axes, I’ll create a simple figure and plot of a random walk\n",
    "(see Figure 8-8):"
   ]
  },
  {
   "cell_type": "code",
   "execution_count": 25,
   "metadata": {},
   "outputs": [
    {
     "data": {
      "image/png": "[encoded data removed]",
      "text/plain": [
       "<matplotlib.figure.Figure at 0x11d47d588>"
      ]
     },
     "metadata": {},
     "output_type": "display_data"
    }
   ],
   "source": [
    "fig = plt.figure(); ax = fig.add_subplot(1, 1, 1)"
   ]
  },
  {
   "cell_type": "code",
   "execution_count": 26,
   "metadata": {},
   "outputs": [
    {
     "data": {
      "text/plain": [
       "[<matplotlib.lines.Line2D at 0x11d5f5400>]"
      ]
     },
     "execution_count": 26,
     "metadata": {},
     "output_type": "execute_result"
    }
   ],
   "source": [
    "ax.plot(randn(1000).cumsum())"
   ]
  },
  {
   "cell_type": "markdown",
   "metadata": {},
   "source": [
    "To change the X axis ticks, it’s easiest to use set_xticks and set_xticklabels. The\n",
    "former instructs matplotlib where to place the ticks along the data range; by default\n",
    "these locations will also be the labels. But we can set any other values as the labels using set_xticklabels:"
   ]
  },
  {
   "cell_type": "code",
   "execution_count": 27,
   "metadata": {
    "collapsed": true
   },
   "outputs": [],
   "source": [
    "ticks = ax.set_xticks([0, 250, 500, 750, 1000])"
   ]
  },
  {
   "cell_type": "code",
   "execution_count": 28,
   "metadata": {
    "collapsed": true
   },
   "outputs": [],
   "source": [
    "labels = ax.set_xticklabels(['one', 'two', 'three', 'four', 'five'],\n",
    "        rotation=30, fontsize='small')"
   ]
  },
  {
   "cell_type": "markdown",
   "metadata": {},
   "source": [
    "Lastly, set_xlabel gives a name to the X axis and set_title the subplot title:"
   ]
  },
  {
   "cell_type": "code",
   "execution_count": 29,
   "metadata": {},
   "outputs": [
    {
     "data": {
      "text/plain": [
       "<matplotlib.text.Text at 0x11d4a3438>"
      ]
     },
     "execution_count": 29,
     "metadata": {},
     "output_type": "execute_result"
    }
   ],
   "source": [
    "ax.set_title('My first matplotlib plot')"
   ]
  },
  {
   "cell_type": "code",
   "execution_count": 31,
   "metadata": {},
   "outputs": [
    {
     "data": {
      "text/plain": [
       "<matplotlib.text.Text at 0x11d221dd8>"
      ]
     },
     "execution_count": 31,
     "metadata": {},
     "output_type": "execute_result"
    }
   ],
   "source": [
    "ax.set_xlabel('Stages')"
   ]
  },
  {
   "cell_type": "code",
   "execution_count": null,
   "metadata": {
    "collapsed": true
   },
   "outputs": [],
   "source": []
  },
  {
   "cell_type": "code",
   "execution_count": null,
   "metadata": {
    "collapsed": true
   },
   "outputs": [],
   "source": []
  },
  {
   "cell_type": "code",
   "execution_count": 32,
   "metadata": {},
   "outputs": [
    {
     "data": {
      "image/png": "[encoded data removed]",
      "text/plain": [
       "<matplotlib.figure.Figure at 0x11d494dd8>"
      ]
     },
     "metadata": {},
     "output_type": "display_data"
    }
   ],
   "source": [
    "fig = plt.figure(); ax = fig.add_subplot(1, 1, 1)"
   ]
  },
  {
   "cell_type": "code",
   "execution_count": 33,
   "metadata": {},
   "outputs": [
    {
     "data": {
      "text/plain": [
       "[<matplotlib.lines.Line2D at 0x11d6155c0>]"
      ]
     },
     "execution_count": 33,
     "metadata": {},
     "output_type": "execute_result"
    }
   ],
   "source": [
    "ax.plot(randn(1000).cumsum(), 'k', label='one')"
   ]
  },
  {
   "cell_type": "code",
   "execution_count": 34,
   "metadata": {},
   "outputs": [
    {
     "data": {
      "text/plain": [
       "[<matplotlib.lines.Line2D at 0x11d597eb8>]"
      ]
     },
     "execution_count": 34,
     "metadata": {},
     "output_type": "execute_result"
    }
   ],
   "source": [
    "ax.plot(randn(1000).cumsum(), 'k--', label='two')"
   ]
  },
  {
   "cell_type": "code",
   "execution_count": 35,
   "metadata": {},
   "outputs": [
    {
     "data": {
      "text/plain": [
       "[<matplotlib.lines.Line2D at 0x11d608908>]"
      ]
     },
     "execution_count": 35,
     "metadata": {},
     "output_type": "execute_result"
    }
   ],
   "source": [
    "ax.plot(randn(1000).cumsum(), 'k.', label='three')"
   ]
  },
  {
   "cell_type": "markdown",
   "metadata": {},
   "source": [
    "Once you’ve done this, you can either call ax.legend() or plt.legend() to automatically\n",
    "create a legend:"
   ]
  },
  {
   "cell_type": "code",
   "execution_count": 36,
   "metadata": {},
   "outputs": [
    {
     "data": {
      "text/plain": [
       "<matplotlib.legend.Legend at 0x11d608828>"
      ]
     },
     "execution_count": 36,
     "metadata": {},
     "output_type": "execute_result"
    }
   ],
   "source": [
    "ax.legend(loc='best')"
   ]
  },
  {
   "cell_type": "code",
   "execution_count": null,
   "metadata": {
    "collapsed": true
   },
   "outputs": [],
   "source": []
  }
 ],
 "metadata": {
  "kernelspec": {
   "display_name": "Python 3",
   "language": "python",
   "name": "python3"
  },
  "language_info": {
   "codemirror_mode": {
    "name": "ipython",
    "version": 3
   },
   "file_extension": ".py",
   "mimetype": "text/x-python",
   "name": "python",
   "nbconvert_exporter": "python",
   "pygments_lexer": "ipython3",
   "version": "3.5.3"
  }
 },
 "nbformat": 4,
 "nbformat_minor": 2
}
